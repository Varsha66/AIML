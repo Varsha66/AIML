{
 "cells": [
  {
   "cell_type": "code",
   "execution_count": 1,
   "id": "f0bc6970",
   "metadata": {},
   "outputs": [],
   "source": [
    "%matplotlib inline \n",
    "import pandas as pd"
   ]
  },
  {
   "cell_type": "code",
   "execution_count": 2,
   "id": "2390f355",
   "metadata": {},
   "outputs": [
    {
     "data": {
      "text/html": [
       "<div>\n",
       "<style scoped>\n",
       "    .dataframe tbody tr th:only-of-type {\n",
       "        vertical-align: middle;\n",
       "    }\n",
       "\n",
       "    .dataframe tbody tr th {\n",
       "        vertical-align: top;\n",
       "    }\n",
       "\n",
       "    .dataframe thead th {\n",
       "        text-align: right;\n",
       "    }\n",
       "</style>\n",
       "<table border=\"1\" class=\"dataframe\">\n",
       "  <thead>\n",
       "    <tr style=\"text-align: right;\">\n",
       "      <th></th>\n",
       "      <th>title</th>\n",
       "      <th>year</th>\n",
       "    </tr>\n",
       "  </thead>\n",
       "  <tbody>\n",
       "    <tr>\n",
       "      <th>0</th>\n",
       "      <td>Tasveer Mere Sanam</td>\n",
       "      <td>1996</td>\n",
       "    </tr>\n",
       "    <tr>\n",
       "      <th>1</th>\n",
       "      <td>Only You</td>\n",
       "      <td>1994</td>\n",
       "    </tr>\n",
       "    <tr>\n",
       "      <th>2</th>\n",
       "      <td>El pueblo del terror</td>\n",
       "      <td>1970</td>\n",
       "    </tr>\n",
       "    <tr>\n",
       "      <th>3</th>\n",
       "      <td>Machine</td>\n",
       "      <td>2007</td>\n",
       "    </tr>\n",
       "    <tr>\n",
       "      <th>4</th>\n",
       "      <td>MARy</td>\n",
       "      <td>2008</td>\n",
       "    </tr>\n",
       "  </tbody>\n",
       "</table>\n",
       "</div>"
      ],
      "text/plain": [
       "                  title  year\n",
       "0    Tasveer Mere Sanam  1996\n",
       "1              Only You  1994\n",
       "2  El pueblo del terror  1970\n",
       "3               Machine  2007\n",
       "4                  MARy  2008"
      ]
     },
     "execution_count": 2,
     "metadata": {},
     "output_type": "execute_result"
    }
   ],
   "source": [
    "titles= pd.read_csv('titles.csv')\n",
    "\n",
    "titles.head()"
   ]
  },
  {
   "cell_type": "markdown",
   "id": "f674979f",
   "metadata": {},
   "source": [
    "# 1. How many movies are listed in the titles dataframe?"
   ]
  },
  {
   "cell_type": "code",
   "execution_count": 3,
   "id": "14be125b",
   "metadata": {},
   "outputs": [
    {
     "name": "stdout",
     "output_type": "stream",
     "text": [
      "Total number of movies listed: 244914\n"
     ]
    }
   ],
   "source": [
    "import pandas as pd\n",
    "\n",
    "df = pd.read_csv(\"titles.csv\")\n",
    "\n",
    "num_movies = len(df)\n",
    "\n",
    "print(f'Total number of movies listed: {num_movies}')"
   ]
  },
  {
   "cell_type": "markdown",
   "id": "6818b7d2",
   "metadata": {},
   "source": [
    "# 2.What are the earliest two films listed in the titles dataframe?"
   ]
  },
  {
   "cell_type": "code",
   "execution_count": 4,
   "id": "bdeec8ba",
   "metadata": {},
   "outputs": [
    {
     "name": "stdout",
     "output_type": "stream",
     "text": [
      "                     title  year\n",
      "193222          Miss Jerry  1894\n",
      "51388   The Startled Lover  1898\n"
     ]
    }
   ],
   "source": [
    "# Assuming your dataframe is named 'titles'\n",
    "# Sort the dataframe by the 'year' column in ascending order and select the top two rows\n",
    "earliest_films = titles.sort_values(by='year', ascending=True).head(2)\n",
    "\n",
    "# Print the earliest two films\n",
    "print(earliest_films)"
   ]
  },
  {
   "cell_type": "markdown",
   "id": "456c04a4",
   "metadata": {},
   "source": [
    "# 3. How many movies have the title \"Hamlet\"?"
   ]
  },
  {
   "cell_type": "code",
   "execution_count": 5,
   "id": "a436019c",
   "metadata": {},
   "outputs": [
    {
     "name": "stdout",
     "output_type": "stream",
     "text": [
      "Number of movies with the title 'Hamlet': 20\n"
     ]
    }
   ],
   "source": [
    "# Assuming your dataframe is named 'titles'\n",
    "# Count the number of rows where the 'title' column is equal to \"Hamlet\"\n",
    "hamlet_count = titles[titles['title'] == 'Hamlet'].shape[0]\n",
    "\n",
    "# Print the count\n",
    "print(\"Number of movies with the title 'Hamlet':\", hamlet_count)"
   ]
  },
  {
   "cell_type": "markdown",
   "id": "90108ec7",
   "metadata": {},
   "source": [
    "# 4. How many movies are titled \"North by Northwest\"?"
   ]
  },
  {
   "cell_type": "code",
   "execution_count": 6,
   "id": "389a56e7",
   "metadata": {},
   "outputs": [
    {
     "name": "stdout",
     "output_type": "stream",
     "text": [
      "Number of movies titled 'North by Northwest': 1\n"
     ]
    }
   ],
   "source": [
    "# Assuming your dataframe is named 'titles'\n",
    "# Count the number of rows where the 'title' column is equal to \"North by Northwest\"\n",
    "north_by_northwest_count = titles[titles['title'] == 'North by Northwest'].shape[0]\n",
    "\n",
    "# Print the count\n",
    "print(\"Number of movies titled 'North by Northwest':\", north_by_northwest_count)"
   ]
  },
  {
   "cell_type": "markdown",
   "id": "2918de8c",
   "metadata": {},
   "source": [
    "# 5. When was the first movie titled \"Hamlet\" made?"
   ]
  },
  {
   "cell_type": "code",
   "execution_count": 7,
   "id": "cb9bd27d",
   "metadata": {},
   "outputs": [
    {
     "name": "stdout",
     "output_type": "stream",
     "text": [
      "The first movie titled 'Hamlet' was made in the year: 1910\n"
     ]
    }
   ],
   "source": [
    "# Assuming your dataframe is named 'titles'\n",
    "# Filter the dataframe to include only rows where the 'title' column is equal to \"Hamlet\"\n",
    "hamlet_movies = titles[titles['title'] == 'Hamlet']\n",
    "\n",
    "# Sort the filtered dataframe by the 'year' column in ascending order and select the first row\n",
    "first_hamlet_movie = hamlet_movies.sort_values(by='year').iloc[0]\n",
    "\n",
    "# Print the year of the first \"Hamlet\" movie\n",
    "print(\"The first movie titled 'Hamlet' was made in the year:\", first_hamlet_movie['year'])"
   ]
  },
  {
   "cell_type": "markdown",
   "id": "46e7ef3b",
   "metadata": {},
   "source": [
    "# 6. How many movies were made in the year 1950?"
   ]
  },
  {
   "cell_type": "code",
   "execution_count": 8,
   "id": "e1564694",
   "metadata": {},
   "outputs": [
    {
     "name": "stdout",
     "output_type": "stream",
     "text": [
      "Number of movies made in 1950: 1113\n"
     ]
    }
   ],
   "source": [
    "# Assuming your dataframe is named 'titles'\n",
    "# Filter the dataframe to include only rows where the 'year' column is equal to 1950\n",
    "movies_1950 = titles[titles['year'] == 1950]\n",
    "\n",
    "# Get the count of movies made in 1950\n",
    "count_1950_movies = len(movies_1950)\n",
    "\n",
    "# Print the count\n",
    "print(\"Number of movies made in 1950:\", count_1950_movies)"
   ]
  },
  {
   "cell_type": "markdown",
   "id": "9e1c3cbd",
   "metadata": {},
   "source": [
    "# 7. How many movies were made in the year 1960?"
   ]
  },
  {
   "cell_type": "code",
   "execution_count": 9,
   "id": "815a4854",
   "metadata": {},
   "outputs": [
    {
     "name": "stdout",
     "output_type": "stream",
     "text": [
      "Number of movies made in 1960: 1549\n"
     ]
    }
   ],
   "source": [
    "# Assuming your dataframe is named 'titles'\n",
    "# Filter the dataframe to include only rows where the 'year' column is equal to 1960\n",
    "movies_1960 = titles[titles['year'] == 1960]\n",
    "\n",
    "# Get the count of movies made in 1960\n",
    "count_1960_movies = len(movies_1960)\n",
    "\n",
    "# Print the count\n",
    "print(\"Number of movies made in 1960:\", count_1960_movies)"
   ]
  },
  {
   "cell_type": "markdown",
   "id": "68c3c2fa",
   "metadata": {},
   "source": [
    "# 8. How many movies were made from 1950 through 1959?"
   ]
  },
  {
   "cell_type": "code",
   "execution_count": 10,
   "id": "0e35d8eb",
   "metadata": {},
   "outputs": [
    {
     "name": "stdout",
     "output_type": "stream",
     "text": [
      "Number of movies made from 1950 through 1959: 12934\n"
     ]
    }
   ],
   "source": [
    "# Assuming your dataframe is named 'titles'\n",
    "# Filter the dataframe to include only rows where the 'year' column is within the range 1950-1959\n",
    "movies_1950s = titles[(titles['year'] >= 1950) & (titles['year'] <= 1959)]\n",
    "\n",
    "# Get the count of movies made in the 1950s\n",
    "count_1950s_movies = len(movies_1950s)\n",
    "\n",
    "# Print the count\n",
    "print(\"Number of movies made from 1950 through 1959:\", count_1950s_movies)"
   ]
  },
  {
   "cell_type": "markdown",
   "id": "acb95e56",
   "metadata": {},
   "source": [
    "# 9. In what years has a movie titled \"Batman\" been released?"
   ]
  },
  {
   "cell_type": "code",
   "execution_count": 11,
   "id": "aceed825",
   "metadata": {},
   "outputs": [
    {
     "name": "stdout",
     "output_type": "stream",
     "text": [
      "Years in which a movie titled 'Batman' has been released: [1943 1989]\n"
     ]
    }
   ],
   "source": [
    "# Assuming your dataframe is named 'titles'\n",
    "# Filter the dataframe to include only rows where the 'title' column is equal to \"Batman\"\n",
    "batman_movies = titles[titles['title'] == 'Batman']\n",
    "\n",
    "# Get the unique years from the filtered dataframe\n",
    "years_of_batman_movies = batman_movies['year'].unique()\n",
    "\n",
    "# Print the years\n",
    "print(\"Years in which a movie titled 'Batman' has been released:\", years_of_batman_movies)"
   ]
  },
  {
   "cell_type": "markdown",
   "id": "6d44b7b8",
   "metadata": {},
   "source": [
    "# 10. How many roles were there in the movie \"Inception\"?"
   ]
  },
  {
   "cell_type": "code",
   "execution_count": 12,
   "id": "470c0a74",
   "metadata": {},
   "outputs": [
    {
     "name": "stdout",
     "output_type": "stream",
     "text": [
      "The number of roles in the movie \"Inception\" is: 56\n"
     ]
    }
   ],
   "source": [
    "import pandas as pd\n",
    "\n",
    "csv_file = \"cast.csv\"\n",
    "\n",
    "df = pd.read_csv(csv_file)\n",
    "\n",
    "inception_roles = df[df['title'] == 'Inception']\n",
    "\n",
    "num_roles_inception = inception_roles['character'].nunique()\n",
    "\n",
    "print(f'The number of roles in the movie \"Inception\" is: {num_roles_inception}')"
   ]
  },
  {
   "cell_type": "markdown",
   "id": "0f0d1d8f",
   "metadata": {},
   "source": [
    "# 11. How many roles in the movie \"Inception\" are NOT ranked by an \"n\" value?"
   ]
  },
  {
   "cell_type": "code",
   "execution_count": 13,
   "id": "9bc2f686",
   "metadata": {},
   "outputs": [
    {
     "name": "stdout",
     "output_type": "stream",
     "text": [
      "The number of roles in the movie \"Inception\" that are not ranked by an \"n\" value is: 27\n"
     ]
    }
   ],
   "source": [
    "import pandas as pd\n",
    "\n",
    "csv_file = \"cast.csv\"\n",
    "\n",
    "df = pd.read_csv(csv_file)\n",
    "\n",
    "inception_roles = df[df['title'] == 'Inception']\n",
    "\n",
    "num_unranked_roles = inception_roles['n'].isna().sum()\n",
    "\n",
    "print(f'The number of roles in the movie \"Inception\" that are not ranked by an \"n\" value is: {num_unranked_roles}')"
   ]
  },
  {
   "cell_type": "markdown",
   "id": "faebe283",
   "metadata": {},
   "source": [
    "# 12. But how many roles in the movie \"Inception\" did receive an \"n\" value?"
   ]
  },
  {
   "cell_type": "code",
   "execution_count": 14,
   "id": "4f4f5965",
   "metadata": {},
   "outputs": [
    {
     "name": "stdout",
     "output_type": "stream",
     "text": [
      "The number of roles in the movie \"Inception\" that received an \"n\" value is: 51\n"
     ]
    }
   ],
   "source": [
    "import pandas as pd\n",
    "\n",
    "csv_file = \"cast.csv\"\n",
    "\n",
    "df = pd.read_csv(csv_file)\n",
    "\n",
    "inception_roles = df[df['title'] == 'Inception']\n",
    "\n",
    "num_ranked_roles = inception_roles['n'].notna().sum()\n",
    "\n",
    "print(f'The number of roles in the movie \"Inception\" that received an \"n\" value is: {num_ranked_roles}')"
   ]
  },
  {
   "cell_type": "markdown",
   "id": "575327ec",
   "metadata": {},
   "source": [
    "# 13. Display the cast of \"North by Northwest\" in their correct \"n\"-value order, ignoring roles that did not earn a numeric \"n\" value"
   ]
  },
  {
   "cell_type": "code",
   "execution_count": 15,
   "id": "3f71280a",
   "metadata": {},
   "outputs": [
    {
     "name": "stdout",
     "output_type": "stream",
     "text": [
      "                         name                    character     n\n",
      "871426             Cary Grant           Roger O. Thornhill   1.0\n",
      "3518333       Eva Marie Saint                  Eve Kendall   2.0\n",
      "1457165           James Mason              Phillip Vandamm   3.0\n",
      "3157232   Jessie Royce Landis              Clara Thornhill   4.0\n",
      "356707         Leo G. Carroll                The Professor   5.0\n",
      "3048272  Josephine Hutchinson                Mrs. Townsend   6.0\n",
      "1695173           Philip Ober              Lester Townsend   7.0\n",
      "1275337         Martin Landau                      Leonard   8.0\n",
      "2447081         Adam Williams                     Valerian   9.0\n",
      "1811387          Edward Platt              Victor Larrabee  10.0\n",
      "665768      Robert Ellenstein                        Licht  11.0\n",
      "2295714          Les Tremayne                   Auctioneer  12.0\n",
      "464736        Philip Coolidge                    Dr. Cross  13.0\n",
      "1508344         Patrick McVey               Sergeant Flamm  14.0\n",
      "206471           Edward Binns               Captain Junket  15.0\n",
      "1384780             Ken Lynch  Charley - Chicago Policeman  16.0\n"
     ]
    },
    {
     "name": "stderr",
     "output_type": "stream",
     "text": [
      "C:\\Users\\nagaraju\\AppData\\Local\\Temp\\ipykernel_10264\\2283023261.py:9: SettingWithCopyWarning: \n",
      "A value is trying to be set on a copy of a slice from a DataFrame.\n",
      "Try using .loc[row_indexer,col_indexer] = value instead\n",
      "\n",
      "See the caveats in the documentation: https://pandas.pydata.org/pandas-docs/stable/user_guide/indexing.html#returning-a-view-versus-a-copy\n",
      "  north_by_northwest_cast['n'] = pd.to_numeric(north_by_northwest_cast['n'])\n"
     ]
    }
   ],
   "source": [
    "import pandas as pd\n",
    "\n",
    "csv_file = \"cast.csv\"\n",
    "\n",
    "df = pd.read_csv(csv_file)\n",
    "\n",
    "north_by_northwest_cast = df[(df['title'] == 'North by Northwest') & df['n'].notna()]\n",
    "\n",
    "north_by_northwest_cast['n'] = pd.to_numeric(north_by_northwest_cast['n'])\n",
    "\n",
    "north_by_northwest_cast = north_by_northwest_cast.sort_values(by='n')\n",
    "\n",
    "print(north_by_northwest_cast[['name', 'character', 'n']])"
   ]
  },
  {
   "cell_type": "markdown",
   "id": "7d3570fc",
   "metadata": {},
   "source": [
    "# 14. Display the entire cast, in \"n\"-order, of the 1972 film \"Sleuth"
   ]
  },
  {
   "cell_type": "code",
   "execution_count": 16,
   "id": "8e4f4a55",
   "metadata": {},
   "outputs": [
    {
     "name": "stdout",
     "output_type": "stream",
     "text": [
      "                       name                   character    n\n",
      "1705394    Laurence Olivier                 Andrew Wyke  1.0\n",
      "326773        Michael Caine                 Milo Tindle  2.0\n",
      "373876       Alec Cawthorne           Inspector Doppler  3.0\n",
      "1465483  John (II) Matthews  Detective Sergeant Tarrant  4.0\n",
      "2724553  Eve (III) Channing             Marguerite Wyke  5.0\n",
      "1448690        Teddy Martin      Police Constable Higgs  6.0\n"
     ]
    }
   ],
   "source": [
    "import pandas as pd\n",
    "\n",
    "csv_file = \"cast.csv\"\n",
    "\n",
    "df = pd.read_csv(csv_file)\n",
    "\n",
    "sleuth_1972_cast = df[(df['title'] == 'Sleuth') & (df['year'] == 1972)]\n",
    "\n",
    "sleuth_1972_cast = sleuth_1972_cast.sort_values(by='n')\n",
    "\n",
    "print(sleuth_1972_cast[['name', 'character', 'n']])"
   ]
  },
  {
   "cell_type": "markdown",
   "id": "852d9afe",
   "metadata": {},
   "source": [
    "# 15. Now display the entire cast, in \"n\"-order, of the 2007 version of \"Sleuth\"."
   ]
  },
  {
   "cell_type": "code",
   "execution_count": 17,
   "id": "5fd72d3e",
   "metadata": {},
   "outputs": [
    {
     "name": "stdout",
     "output_type": "stream",
     "text": [
      "                        name          character    n\n",
      "326774         Michael Caine             Andrew  1.0\n",
      "1293634             Jude Law               Milo  2.0\n",
      "1805907        Harold Pinter        Man on T.V.  3.0\n",
      "260242       Kenneth Branagh  Other Man on T.V.  NaN\n",
      "373877   Alec (II) Cawthorne  Inspector Doppler  NaN\n",
      "2724552    Eve (II) Channing    Marguerite Wyke  NaN\n",
      "3370424    Carmel O'Sullivan             Maggie  NaN\n"
     ]
    }
   ],
   "source": [
    "import pandas as pd\n",
    "\n",
    "csv_file = \"cast.csv\"\n",
    "\n",
    "df = pd.read_csv(csv_file)\n",
    "\n",
    "sleuth_2007_cast = df[(df['title'] == 'Sleuth') & (df['year'] == 2007)]\n",
    "\n",
    "sleuth_2007_cast = sleuth_2007_cast.sort_values(by='n')\n",
    "\n",
    "print(sleuth_2007_cast[['name', 'character', 'n']])"
   ]
  },
  {
   "cell_type": "markdown",
   "id": "20e9f43f",
   "metadata": {},
   "source": [
    "# 16. How many roles were credited in the silent 1921 version of Hamlet?"
   ]
  },
  {
   "cell_type": "code",
   "execution_count": 18,
   "id": "0fa3ec4d",
   "metadata": {},
   "outputs": [
    {
     "name": "stdout",
     "output_type": "stream",
     "text": [
      "The number of roles credited in the silent 1921 version of \"Hamlet\" is: 9\n"
     ]
    }
   ],
   "source": [
    "import pandas as pd\n",
    "\n",
    "csv_file = \"cast.csv\"\n",
    "\n",
    "df = pd.read_csv(csv_file)\n",
    "\n",
    "hamlet_1921_cast = df[(df['title'] == 'Hamlet') & (df['year'] == 1921)]\n",
    "\n",
    "num_credited_roles = hamlet_1921_cast.shape[0]\n",
    "\n",
    "print(f'The number of roles credited in the silent 1921 version of \"Hamlet\" is: {num_credited_roles}')"
   ]
  },
  {
   "cell_type": "markdown",
   "id": "b15e1621",
   "metadata": {},
   "source": [
    "# 17. How many roles were credited in Branagh's 1996 Hamlet?"
   ]
  },
  {
   "cell_type": "code",
   "execution_count": 19,
   "id": "2cd9533b",
   "metadata": {},
   "outputs": [
    {
     "name": "stdout",
     "output_type": "stream",
     "text": [
      "The number of credited roles in Kenneth Branagh's 1996 version of \"Hamlet\" is: 54\n"
     ]
    }
   ],
   "source": [
    "import pandas as pd\n",
    "\n",
    "csv_file = \"cast.csv\"\n",
    "\n",
    "df = pd.read_csv(csv_file)\n",
    "\n",
    "branagh_hamlet_1996_cast = df[(df['title'] == 'Hamlet') & (df['year'] == 1996)]\n",
    "\n",
    "num_credited_roles = branagh_hamlet_1996_cast.shape[0]\n",
    "\n",
    "print(f'The number of credited roles in Kenneth Branagh\\'s 1996 version of \"Hamlet\" is: {num_credited_roles}')"
   ]
  },
  {
   "cell_type": "markdown",
   "id": "34fc76ee",
   "metadata": {},
   "source": [
    "# 18. How many \"Hamlet\" roles have been listed in all film credits through history?"
   ]
  },
  {
   "cell_type": "code",
   "execution_count": 20,
   "id": "33a8af7f",
   "metadata": {},
   "outputs": [
    {
     "name": "stdout",
     "output_type": "stream",
     "text": [
      "The number of \"Hamlet\" roles listed in all film credits through history is: 112\n"
     ]
    }
   ],
   "source": [
    "import pandas as pd\n",
    "\n",
    "csv_file = \"cast.csv\"\n",
    "\n",
    "df = pd.read_csv(csv_file)\n",
    "\n",
    "hamlet_roles = df[df['title'] == 'Hamlet']\n",
    "\n",
    "num_hamlet_roles = hamlet_roles['character'].nunique()\n",
    "\n",
    "print(f'The number of \"Hamlet\" roles listed in all film credits through history is: {num_hamlet_roles}')"
   ]
  },
  {
   "cell_type": "markdown",
   "id": "1dc209bf",
   "metadata": {},
   "source": [
    "# 19. How many people have played an \"Ophelia\"?"
   ]
  },
  {
   "cell_type": "code",
   "execution_count": 21,
   "id": "5a4fb65e",
   "metadata": {},
   "outputs": [
    {
     "name": "stdout",
     "output_type": "stream",
     "text": [
      "The number of people who have played the role of \"Ophelia\" is: 115\n"
     ]
    }
   ],
   "source": [
    "import pandas as pd\n",
    "csv_file = \"cast.csv\"\n",
    "\n",
    "df = pd.read_csv(csv_file)\n",
    "\n",
    "ophelia_roles = df[df['character'] == 'Ophelia']\n",
    "\n",
    "num_ophelia_actors = ophelia_roles['name'].nunique()\n",
    "\n",
    "print(f'The number of people who have played the role of \"Ophelia\" is: {num_ophelia_actors}')"
   ]
  },
  {
   "cell_type": "markdown",
   "id": "f676ffb8",
   "metadata": {},
   "source": [
    "# 20. How many people have played a role called \"The Dude\"?"
   ]
  },
  {
   "cell_type": "code",
   "execution_count": 22,
   "id": "34c9b6dc",
   "metadata": {},
   "outputs": [
    {
     "name": "stdout",
     "output_type": "stream",
     "text": [
      "The number of people who have played a role called \"The Dude\" is: 19\n"
     ]
    }
   ],
   "source": [
    "import pandas as pd\n",
    "\n",
    "csv_file = \"cast.csv\"\n",
    "\n",
    "df = pd.read_csv(csv_file)\n",
    "\n",
    "the_dude_roles = df[df['character'] == 'The Dude']\n",
    "\n",
    "num_the_dude_actors = the_dude_roles['name'].nunique()\n",
    "\n",
    "print(f'The number of people who have played a role called \"The Dude\" is: {num_the_dude_actors}')"
   ]
  },
  {
   "cell_type": "markdown",
   "id": "192212e0",
   "metadata": {},
   "source": [
    "# 21. How many people have played a role called \"The Stranger\"?"
   ]
  },
  {
   "cell_type": "code",
   "execution_count": 23,
   "id": "69ee53a1",
   "metadata": {},
   "outputs": [
    {
     "name": "stdout",
     "output_type": "stream",
     "text": [
      "The number of people who have played a role called \"The Stranger\" is: 202\n"
     ]
    }
   ],
   "source": [
    "import pandas as pd\n",
    "csv_file = \"cast.csv\"\n",
    "\n",
    "df = pd.read_csv(csv_file)\n",
    "\n",
    "the_stranger_roles = df[df['character'] == 'The Stranger']\n",
    "\n",
    "num_the_stranger_actors = the_stranger_roles['name'].nunique()\n",
    "\n",
    "print(f'The number of people who have played a role called \"The Stranger\" is: {num_the_stranger_actors}')"
   ]
  },
  {
   "cell_type": "markdown",
   "id": "05d5132d",
   "metadata": {},
   "source": [
    "# 22. How many roles has Sidney Poitier played throughout his career?"
   ]
  },
  {
   "cell_type": "code",
   "execution_count": 24,
   "id": "b9540d08",
   "metadata": {},
   "outputs": [
    {
     "name": "stdout",
     "output_type": "stream",
     "text": [
      "Sidney Poitier has played 41 roles throughout his career.\n"
     ]
    }
   ],
   "source": [
    "import pandas as pd\n",
    "\n",
    "csv_file = \"cast.csv\"\n",
    "\n",
    "df = pd.read_csv(csv_file)\n",
    "\n",
    "sidney_poitier_roles = df[df['name'] == 'Sidney Poitier']\n",
    "\n",
    "num_sidney_poitier_roles = sidney_poitier_roles['character'].nunique()\n",
    "\n",
    "print(f'Sidney Poitier has played {num_sidney_poitier_roles} roles throughout his career.')"
   ]
  },
  {
   "cell_type": "markdown",
   "id": "6d80a844",
   "metadata": {},
   "source": [
    "# 23. How many roles has Judi Dench played?"
   ]
  },
  {
   "cell_type": "code",
   "execution_count": 25,
   "id": "0ef6b179",
   "metadata": {},
   "outputs": [
    {
     "name": "stdout",
     "output_type": "stream",
     "text": [
      "Judi Dench has played 46 roles throughout her career.\n"
     ]
    }
   ],
   "source": [
    "import pandas as pd\n",
    "\n",
    "csv_file = \"cast.csv\"\n",
    "\n",
    "df = pd.read_csv(csv_file)\n",
    "\n",
    "judi_dench_roles = df[df['name'] == 'Judi Dench']\n",
    "\n",
    "num_judi_dench_roles = judi_dench_roles['character'].nunique()\n",
    "\n",
    "print(f'Judi Dench has played {num_judi_dench_roles} roles throughout her career.')"
   ]
  },
  {
   "cell_type": "markdown",
   "id": "6ca78b88",
   "metadata": {},
   "source": [
    "# 24. List the supporting roles (having n=2) played by Cary Grant in the 1940s, in order by year."
   ]
  },
  {
   "cell_type": "code",
   "execution_count": 26,
   "id": "eb4abd34",
   "metadata": {},
   "outputs": [
    {
     "name": "stdout",
     "output_type": "stream",
     "text": [
      "        year    character\n",
      "871423  1940   Nick Arden\n",
      "871433  1941  Roger Adams\n"
     ]
    }
   ],
   "source": [
    "import pandas as pd\n",
    "\n",
    "csv_file = \"cast.csv\"\n",
    "\n",
    "df = pd.read_csv(csv_file)\n",
    "\n",
    "cary_grant_supporting_roles_1940s = df[(df['name'] == 'Cary Grant') & (df['n'] == 2) & (df['year'] >= 1940) & (df['year'] <= 1949)]\n",
    "\n",
    "cary_grant_supporting_roles_1940s = cary_grant_supporting_roles_1940s.sort_values(by='year')\n",
    "\n",
    "print(cary_grant_supporting_roles_1940s[['year', 'character']])"
   ]
  },
  {
   "cell_type": "markdown",
   "id": "99aa45c0",
   "metadata": {},
   "source": [
    "# 25. List the leading roles that Cary Grant played in the 1940s in order by year."
   ]
  },
  {
   "cell_type": "code",
   "execution_count": 27,
   "id": "fc02da1a",
   "metadata": {},
   "outputs": [
    {
     "name": "stdout",
     "output_type": "stream",
     "text": [
      "        year                             character\n",
      "871448  1940                           Matt Howard\n",
      "871407  1940                          Walter Burns\n",
      "871450  1940                    C. K. Dexter Haven\n",
      "871438  1941                      Johnnie Aysgarth\n",
      "871452  1942                          Leopold Dilg\n",
      "871429  1942                 Patrick 'Pat' O'Toole\n",
      "871398  1943                         Capt. Cassidy\n",
      "871422  1943  Joe Adams -posing as Joe Bascopolous\n",
      "871430  1944                           Jerry Flynn\n",
      "871390  1944                     Mortimer Brewster\n",
      "871425  1944                            Ernie Mott\n",
      "871424  1946                           Cole Porter\n",
      "871427  1946                                Devlin\n",
      "871444  1947                           Dick Nugent\n",
      "871445  1947                                Dudley\n",
      "871421  1948                         Jim Blandings\n",
      "871402  1948                     Dr. Madison Brown\n",
      "871411  1949                 Captain Henri Rochard\n"
     ]
    }
   ],
   "source": [
    "import pandas as pd\n",
    "\n",
    "csv_file = \"cast.csv\"\n",
    "\n",
    "df = pd.read_csv(csv_file)\n",
    "\n",
    "cary_grant_leading_roles_1940s = df[(df['name'] == 'Cary Grant') & (df['n'] == 1) & (df['year'] >= 1940) & (df['year'] <= 1949)]\n",
    "\n",
    "cary_grant_leading_roles_1940s = cary_grant_leading_roles_1940s.sort_values(by='year')\n",
    "\n",
    "print(cary_grant_leading_roles_1940s[['year', 'character']])"
   ]
  },
  {
   "cell_type": "markdown",
   "id": "c0dac552",
   "metadata": {},
   "source": [
    "# 26. How many roles were available for actors in the 1950s?"
   ]
  },
  {
   "cell_type": "code",
   "execution_count": 28,
   "id": "28120db2",
   "metadata": {},
   "outputs": [
    {
     "name": "stdout",
     "output_type": "stream",
     "text": [
      "The number of roles available for actors in the 1950s is: 215471\n"
     ]
    }
   ],
   "source": [
    "import pandas as pd\n",
    "\n",
    "csv_file = \"cast.csv\"\n",
    "\n",
    "df = pd.read_csv(csv_file)\n",
    "\n",
    "roles_1950s = df[(df['year'] >= 1950) & (df['year'] <= 1959)]\n",
    "\n",
    "num_roles_1950s = roles_1950s.shape[0]\n",
    "\n",
    "print(f'The number of roles available for actors in the 1950s is: {num_roles_1950s}')"
   ]
  },
  {
   "cell_type": "markdown",
   "id": "4d018fb5",
   "metadata": {},
   "source": [
    "# 27. How many roles were available for actresses in the 1950s?"
   ]
  },
  {
   "cell_type": "code",
   "execution_count": 29,
   "id": "92251588",
   "metadata": {},
   "outputs": [
    {
     "name": "stdout",
     "output_type": "stream",
     "text": [
      "The number of roles available for actresses in the 1950s is: 57733\n"
     ]
    }
   ],
   "source": [
    "import pandas as pd\n",
    "\n",
    "csv_file = \"cast.csv\"\n",
    "\n",
    "df = pd.read_csv(csv_file)\n",
    "\n",
    "actress_roles_1950s = df[(df['year'] >= 1950) & (df['year'] <= 1959) & (df['type'] == 'actress')]\n",
    "\n",
    "num_actress_roles_1950s = actress_roles_1950s.shape[0]\n",
    "\n",
    "print(f'The number of roles available for actresses in the 1950s is: {num_actress_roles_1950s}')"
   ]
  },
  {
   "cell_type": "markdown",
   "id": "7ae80c16",
   "metadata": {},
   "source": [
    "# 28. How many leading roles (n=1) were available from the beginning of film history through 1980?"
   ]
  },
  {
   "cell_type": "code",
   "execution_count": 30,
   "id": "1e2a8524",
   "metadata": {},
   "outputs": [
    {
     "name": "stdout",
     "output_type": "stream",
     "text": [
      "The number of leading roles (n=1) available from the beginning of film history through 1980 is: 65140\n"
     ]
    }
   ],
   "source": [
    "import pandas as pd\n",
    "\n",
    "csv_file = \"cast.csv\"\n",
    "\n",
    "df = pd.read_csv(csv_file)\n",
    "\n",
    "leading_roles_until_1980 = df[(df['year'] <= 1980) & (df['n'] == 1)]\n",
    "\n",
    "num_leading_roles_until_1980 = leading_roles_until_1980.shape[0]\n",
    "\n",
    "print(f'The number of leading roles (n=1) available from the beginning of film history through 1980 is: {num_leading_roles_until_1980}')"
   ]
  },
  {
   "cell_type": "markdown",
   "id": "bc140851",
   "metadata": {},
   "source": [
    "# 29. How many non-leading roles were available through from the beginning of film history through 1980?"
   ]
  },
  {
   "cell_type": "code",
   "execution_count": 31,
   "id": "1521592a",
   "metadata": {},
   "outputs": [
    {
     "name": "stdout",
     "output_type": "stream",
     "text": [
      "The number of non-leading roles (n values other than 1) available from the beginning of film history through 1980 is: 1117667\n"
     ]
    }
   ],
   "source": [
    "import pandas as pd\n",
    "\n",
    "csv_file = \"cast.csv\"\n",
    "\n",
    "df = pd.read_csv(csv_file)\n",
    "\n",
    "non_leading_roles_until_1980 = df[(df['year'] <= 1980) & (df['n'] != 1)]\n",
    "\n",
    "num_non_leading_roles_until_1980 = non_leading_roles_until_1980.shape[0]\n",
    "\n",
    "print(f'The number of non-leading roles (n values other than 1) available from the beginning of film history through 1980 is: {num_non_leading_roles_until_1980}')"
   ]
  },
  {
   "cell_type": "markdown",
   "id": "bd79504a",
   "metadata": {},
   "source": [
    "# 30. How many roles through 1980 were minor enough that they did not warrant a numeric \"n\" rank?"
   ]
  },
  {
   "cell_type": "code",
   "execution_count": 32,
   "id": "36048c90",
   "metadata": {},
   "outputs": [
    {
     "name": "stdout",
     "output_type": "stream",
     "text": [
      "The number of roles through 1980 that did not warrant a numeric \"n\" rank is: 448347\n"
     ]
    }
   ],
   "source": [
    "import pandas as pd\n",
    "\n",
    "csv_file = \"cast.csv\"\n",
    "\n",
    "df = pd.read_csv(csv_file)\n",
    "\n",
    "roles_without_n_rank_until_1980 = df[(df['year'] <= 1980) & df['n'].isna()]\n",
    "\n",
    "num_roles_without_n_rank_until_1980 = roles_without_n_rank_until_1980.shape[0]\n",
    "\n",
    "print(f'The number of roles through 1980 that did not warrant a numeric \"n\" rank is: {num_roles_without_n_rank_until_1980}')"
   ]
  },
  {
   "cell_type": "code",
   "execution_count": null,
   "id": "85d2c0f8",
   "metadata": {},
   "outputs": [],
   "source": []
  }
 ],
 "metadata": {
  "kernelspec": {
   "display_name": "Python 3 (ipykernel)",
   "language": "python",
   "name": "python3"
  },
  "language_info": {
   "codemirror_mode": {
    "name": "ipython",
    "version": 3
   },
   "file_extension": ".py",
   "mimetype": "text/x-python",
   "name": "python",
   "nbconvert_exporter": "python",
   "pygments_lexer": "ipython3",
   "version": "3.11.4"
  }
 },
 "nbformat": 4,
 "nbformat_minor": 5
}
