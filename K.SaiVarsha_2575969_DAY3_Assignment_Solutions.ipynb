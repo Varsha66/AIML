{
 "cells": [
  {
   "cell_type": "markdown",
   "id": "51208eee",
   "metadata": {},
   "source": [
    "# 1. Write a python function that copies a file reading and writing upto 50 characters at a time"
   ]
  },
  {
   "cell_type": "code",
   "execution_count": 10,
   "id": "9a66ca13",
   "metadata": {},
   "outputs": [
    {
     "name": "stdout",
     "output_type": "stream",
     "text": [
      "File 'C:/Users/nagaraju/varsha/varsha1.txt.txt' copied to 'C:/Users/nagaraju/varsha/varsha2.txt.txt' successfully.\n",
      "\n",
      "\n",
      "['I am vasha.I live in hyderabad.I am working in mphasis company.']\n"
     ]
    }
   ],
   "source": [
    "def solve(input_file, output_file):\n",
    "    \n",
    "    with open(input_file, 'r') as inp, open(output_file, 'w') as out:\n",
    "        while True:\n",
    "            data = inp.read(50)\n",
    "            if not data:\n",
    "                break  \n",
    "            out.write(data)\n",
    "    print(f\"File '{input_file}' copied to '{output_file}' successfully.\\n\\n\")\n",
    "    \n",
    "# Example usage:\n",
    "input_file = \"C:/Users/nagaraju/varsha/varsha1.txt.txt\"\n",
    "output_file = \"C:/Users/nagaraju/varsha/varsha2.txt.txt\"\n",
    "solve(input_file, output_file)\n",
    "\n",
    "with  open(output_file, 'r') as f:\n",
    "    data = f.readlines()\n",
    "print(data)"
   ]
  },
  {
   "cell_type": "markdown",
   "id": "6d7c3abe",
   "metadata": {},
   "source": [
    "# 2.Print all numbers present in the text file and print the numbers of blank spaces in that file"
   ]
  },
  {
   "cell_type": "code",
   "execution_count": 11,
   "id": "70d5e367",
   "metadata": {},
   "outputs": [
    {
     "name": "stdout",
     "output_type": "stream",
     "text": [
      "Numbers in the file: ['12345678910', '11', '12', '131415']\n",
      "Number of blank spaces in the file: 3\n"
     ]
    }
   ],
   "source": [
    "def extract_numbers(text):\n",
    "    import re\n",
    "    return re.findall(r'\\d+', text)\n",
    "\n",
    "file_path = \"C:/Users/nagaraju/varsha/varsha3.txt.txt\"\n",
    "numbers = []\n",
    "blank_space_count = 0\n",
    "\n",
    "with open(file_path, 'r') as file:\n",
    "    for line in file:  \n",
    "        numbers.extend(extract_numbers(line))\n",
    "        \n",
    "        blank_space_count += line.count(' ')\n",
    "print(\"Numbers in the file:\", numbers)\n",
    "print(\"Number of blank spaces in the file:\", blank_space_count)"
   ]
  },
  {
   "cell_type": "markdown",
   "id": "e18e0085",
   "metadata": {},
   "source": [
    "# 3. Write a funtion called sed that takes an arguments a pattern string, a replacement string, and two filenames; it should read the first file and write the contents into the second file(creating it if necessary).If the pattern string appears anywhere in the file, it should be replaced with the replacements string. If an error occurs while opening,reading,writing or closing files, your program should catch the exception, print an error message, and exit"
   ]
  },
  {
   "cell_type": "code",
   "execution_count": 2,
   "id": "8b439284",
   "metadata": {},
   "outputs": [
    {
     "name": "stdout",
     "output_type": "stream",
     "text": [
      "File 'C:/Users/nagaraju/varsha/varsh1.txt.txt' processed and saved to 'C:/Users/nagaraju/varsha/varsh2.txt.txt' successfully.\n",
      "\n",
      "['I am varsha and I have completed my graduation in sreyas.']\n"
     ]
    }
   ],
   "source": [
    "def sed(pattern, replacement, input_file, output_file):\n",
    "    try:\n",
    "        with open(input_file, 'r') as inp:\n",
    "            data = inp.read()\n",
    "        \n",
    "        replaced_data = data.replace(pattern, replacement)\n",
    "        \n",
    "        with open(output_file, 'w') as out:\n",
    "            out.write(replaced_data)\n",
    "        \n",
    "        print(f\"File '{input_file}' processed and saved to '{output_file}' successfully.\\n\")\n",
    "        \n",
    "    except FileNotFoundError:\n",
    "        print(f\"Error: File '{input_file}' not found.\\n\")\n",
    "    except Exception as e:\n",
    "        print(f\"An error occurred: {e}\\n\")\n",
    "pattern = 'Sreyas'\n",
    "replacement = 'Sreyas Institute'\n",
    "input_file =\"C:/Users/nagaraju/varsha/varsh1.txt.txt\"\n",
    "output_file =\"C:/Users/nagaraju/varsha/varsh2.txt.txt\"\n",
    "sed(pattern, replacement, input_file, output_file)\n",
    "\n",
    "with  open(output_file, 'r') as f:\n",
    "    data = f.readlines()\n",
    "print(data)"
   ]
  },
  {
   "cell_type": "markdown",
   "id": "ecf491b9",
   "metadata": {},
   "source": [
    "# 6. write a python script that concatenates the contents of mutliple text files into a single output file. Allow the user to specify the input files and output files"
   ]
  },
  {
   "cell_type": "code",
   "execution_count": 17,
   "id": "7f1e0302",
   "metadata": {},
   "outputs": [],
   "source": [
    "file1=open('demo1','r')\n",
    "file2=open('demo2','r')\n",
    "\n",
    "content1=file1.read()\n",
    "file1.close()\n",
    "content2=file2.read()\n",
    "file2.close()\n",
    "\n",
    "file=open('demo.txt','w')\n",
    "file.write(content1+content2)\n",
    "file.close()"
   ]
  },
  {
   "cell_type": "markdown",
   "id": "511d061d",
   "metadata": {},
   "source": [
    "# 5. Text File search and Replace:\n",
    "You have a text file with a large amount of text, and you want to search for specific words or phrases and replace them with new content\n",
    "a.) Write Python code to search for and replace them with new content\n",
    "b.) How would you handle cases where you need to perform multiple replacements in a single pass?"
   ]
  },
  {
   "cell_type": "code",
   "execution_count": 18,
   "id": "4ad3660d",
   "metadata": {},
   "outputs": [
    {
     "name": "stdout",
     "output_type": "stream",
     "text": [
      "Enter the word to be searched for: varsha\n",
      "Enter The word to replace: java\n"
     ]
    }
   ],
   "source": [
    "def des(srch,rep,demo1,demo2):\n",
    "    with open(demo1, 'r') as f1:\n",
    "        content = f1.read()\n",
    "        for srch,rep in zip(srch,rep):\n",
    "            content = content.replace(srch,rep)\n",
    "            \n",
    "            with open(demo2, 'w') as f2:\n",
    "                f2.write(content)\n",
    "            \n",
    "\n",
    "srch = input(\"Enter the word to be searched for: \").split()\n",
    "rep = input(\"Enter The word to replace: \").split()\n",
    "\n",
    "\n",
    "\n",
    "des(srch,rep,'demo1','demo2')"
   ]
  },
  {
   "cell_type": "markdown",
   "id": "63eb6b42",
   "metadata": {},
   "source": [
    "# 7.You are given a text file named input.txt containing a list of words, one word per line. Your task is to create a python program that reads the contents of input.txt,processes the words, and writes the result to an output file named output.txt\n",
    "a.) The program should perform the following operations: 1.)Read the words from input.txt 2.)For each word in the input file,calculate the length of the word and store it in a dictionary where the word is the key, and the length is the value 3.)Write the word-length dictionary to output.txt in the following format: Word1: Length1 Word2: Length2 ..... 4.) Close both input and output files properly 5.) Write Python code to accomplish this task. Ensure proper error handling for file operations."
   ]
  },
  {
   "cell_type": "code",
   "execution_count": 1,
   "id": "04b11e4e",
   "metadata": {},
   "outputs": [
    {
     "name": "stdout",
     "output_type": "stream",
     "text": [
      "The contents are added to the output file \n"
     ]
    }
   ],
   "source": [
    "try:\n",
    "    with open('input.txt','r') as f1:\n",
    "        dict={}\n",
    "        for line in f1:\n",
    "            w=line.strip()\n",
    "            wlen=len(w)\n",
    "            dict[w]=wlen\n",
    "    with open('output.txt','w') as f2:\n",
    "        for w,wlen in dict.items():\n",
    "            f2.write(f\"{w}:{wlen}\\n\")\n",
    "    print(\"The contents are added to the output file \")\n",
    "    \n",
    "\n",
    "except FileNotFound:\n",
    "    print(\"input.txt file is not found\")\n",
    "except Exception as e:\n",
    "    print(f\"An error occured: {str(e)}\")"
   ]
  },
  {
   "cell_type": "markdown",
   "id": "304b1fcf",
   "metadata": {},
   "source": [
    "# 8. Assume that you are developing a student gradebook system for a school. The system should allow teachers to input student grades for various subjects,store the data in files, and provide students with the ability to view their grades.\n",
    "Design a python program that accomplishes the following tasks: 1.) Teachers should be able to input grades for students in different subjects. 2.) Store the student grade data in seperate text files for each subject. 3.) Students should be able to view their grades for each subject 4.) Implement error handling for file operations, such as file not founf or permission issues"
   ]
  },
  {
   "cell_type": "code",
   "execution_count": 4,
   "id": "7f17138b",
   "metadata": {},
   "outputs": [
    {
     "name": "stdout",
     "output_type": "stream",
     "text": [
      "Gradebook Menu:\n",
      "1. Input Grades\n",
      "2. View Grades\n",
      "3. Exit\n",
      "Enter your choice (1/2/3): 3\n",
      "Exiting.\n"
     ]
    }
   ],
   "source": [
    "import os\n",
    "def input_grades(student_id, subject, grade):\n",
    "    filename = f\"{subject}_grades.txt\"\n",
    "    try:\n",
    "        with open(filename, 'a') as file:\n",
    "            file.write(f\"{student_id}: {grade}\\n\")\n",
    "    except FileNotFoundError:\n",
    "        print(\"no such file or directory\")\n",
    "    except PermissionError:\n",
    "        print(f\"Error: Permission denied to write to '{filename}'.\")\n",
    "    except Exception as e:\n",
    "        print(f\"An error occurred: {str(e)}\")\n",
    "def view_grades(student_id, subject):\n",
    "    filename = f\"{subject}_grades.txt\"\n",
    "    try:\n",
    "        with open(filename, 'r') as file:\n",
    "            lines = file.readlines()\n",
    "            student_grades = [line.strip() for line in lines if line.startswith(f\"{student_id}: \")]\n",
    "            if student_grades:\n",
    "                print(f\"Grades for {student_id} in {subject}:\")\n",
    "                for grade in student_grades:\n",
    "                    print(grade)\n",
    "            else:\n",
    "                print(f\"No grades found for {student_id} in {subject}.\")\n",
    "    except FileNotFoundError:\n",
    "        print(f\"Error: File '{filename}' not found.\")\n",
    "    except PermissionError:\n",
    "        print(f\"Error: Permission denied to read '{filename}'.\")\n",
    "    except Exception as e:\n",
    "        print(f\"An error occurred: {str(e)}\")\n",
    "while True:\n",
    "    print(\"Gradebook Menu:\")\n",
    "    print(\"1. Input Grades\")\n",
    "    print(\"2. View Grades\")\n",
    "    print(\"3. Exit\")\n",
    "    choice = input(\"Enter your choice (1/2/3): \")\n",
    "    if choice == \"1\":\n",
    "        student_id = input(\"Enter Student ID: \")\n",
    "        subject = input(\"Enter Subject: \")\n",
    "        grade = input(\"Enter Grade: \")\n",
    "        input_grades(student_id, subject, grade)\n",
    "    elif choice == \"2\":\n",
    "        student_id = input(\"Enter Student ID: \")\n",
    "        subject = input(\"Enter Subject: \")\n",
    "        view_grades(student_id, subject)\n",
    "    elif choice == \"3\":\n",
    "        print(\"Exiting.\")\n",
    "    break"
   ]
  },
  {
   "cell_type": "markdown",
   "id": "158f7d76",
   "metadata": {},
   "source": [
    "# 4. Log File Anaysis : You have a log file containing records of user activities on a website. Each line in the represents a log entry with details like timestamp, user ID, and action performed. Your task is to analyze this log file.\n",
    "    \n",
    "    a) Write python code to read the log file and extract specific information, such as the number of unique users or the most common action.\n",
    "    b) How would you handle large log files efficiently without loading the entire file into memory?"
   ]
  },
  {
   "cell_type": "code",
   "execution_count": 3,
   "id": "a17b0c7f",
   "metadata": {},
   "outputs": [
    {
     "name": "stdout",
     "output_type": "stream",
     "text": [
      "An error occurred: too many values to unpack (expected 3)\n",
      "\n"
     ]
    }
   ],
   "source": [
    "from collections import Counter\n",
    "def solve(log_file):\n",
    "    try:\n",
    "        unique_users = set()\n",
    "        actn_counter = Counter()\n",
    "        mst_cmn_actn = None\n",
    "        mst_cmn_actn_count = 0\n",
    "        with open(log_file, 'r') as file:\n",
    "            for line in file:\n",
    "                timestamp, user_id, action = line.strip().split(' ')\n",
    "                unique_users.add(user_id)\n",
    "                actn_counter[action] += 1     \n",
    "                if actn_counter[action] > mst_cmn_actn_count:\n",
    "                    mst_cmn_actn = action\n",
    "                    mst_cmn_actn_count = actn_counter[action]\n",
    "        print(f\"Number of unique users: {len(unique_users)}\")\n",
    "        print(f\"Most common action: {mst_cmn_actn} (count: {mst_cmn_actn_count})\")\n",
    "    except FileNotFoundError:\n",
    "        print(f\"Error: Log file '{log_file}' not found.\\n\")\n",
    "    except Exception as e:\n",
    "        print(f\"An error occurred: {e}\\n\")\n",
    "log_file = \"C:/Users/nagaraju/Downloads/logfile.txt\"\n",
    "solve(log_file)"
   ]
  },
  {
   "cell_type": "code",
   "execution_count": null,
   "id": "09e9cfd2",
   "metadata": {},
   "outputs": [],
   "source": []
  }
 ],
 "metadata": {
  "kernelspec": {
   "display_name": "Python 3 (ipykernel)",
   "language": "python",
   "name": "python3"
  },
  "language_info": {
   "codemirror_mode": {
    "name": "ipython",
    "version": 3
   },
   "file_extension": ".py",
   "mimetype": "text/x-python",
   "name": "python",
   "nbconvert_exporter": "python",
   "pygments_lexer": "ipython3",
   "version": "3.11.4"
  }
 },
 "nbformat": 4,
 "nbformat_minor": 5
}
