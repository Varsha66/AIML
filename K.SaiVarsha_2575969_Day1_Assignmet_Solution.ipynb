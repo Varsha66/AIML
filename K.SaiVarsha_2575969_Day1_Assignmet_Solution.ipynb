{
 "cells": [
  {
   "cell_type": "markdown",
   "id": "afe29ba8",
   "metadata": {},
   "source": [
    "# 1. Manipulate using a list\n",
    "i) To add new elements to the end of the list\n",
    "ii) To reverse elements in the list\n",
    "iii) To display the same list of elements multiple times\n",
    "iv) To concatenate two list\n",
    "v) To sort the elements in the list in ascending order"
   ]
  },
  {
   "cell_type": "code",
   "execution_count": null,
   "id": "157188b0",
   "metadata": {},
   "outputs": [],
   "source": []
  },
  {
   "cell_type": "code",
   "execution_count": 3,
   "id": "e80a311d",
   "metadata": {},
   "outputs": [
    {
     "data": {
      "text/plain": [
       "[1, 2, 3]"
      ]
     },
     "execution_count": 3,
     "metadata": {},
     "output_type": "execute_result"
    }
   ],
   "source": [
    "lst=[1,2,3]\n",
    "lst"
   ]
  },
  {
   "cell_type": "code",
   "execution_count": 4,
   "id": "f1134ff2",
   "metadata": {},
   "outputs": [
    {
     "name": "stdout",
     "output_type": "stream",
     "text": [
      "After added-lists elements are: \n",
      " [1, 2, 3, 4, 5, 6, 7]\n"
     ]
    }
   ],
   "source": [
    "#i) To add new elements to the end of the list \n",
    "lst.append(4)\n",
    "lst.extend([5,6,7])\n",
    "print('After added-lists elements are: \\n',lst)"
   ]
  },
  {
   "cell_type": "code",
   "execution_count": 5,
   "id": "a14e010a",
   "metadata": {},
   "outputs": [
    {
     "name": "stdout",
     "output_type": "stream",
     "text": [
      "Reversed List: [7, 6, 5, 4, 3, 2, 1]\n"
     ]
    }
   ],
   "source": [
    "#ii) To reverse elements in the list \n",
    "lst.reverse()\n",
    "print('Reversed List:',lst)"
   ]
  },
  {
   "cell_type": "code",
   "execution_count": 6,
   "id": "0abef8d3",
   "metadata": {},
   "outputs": [
    {
     "name": "stdout",
     "output_type": "stream",
     "text": [
      "[7, 6, 5, 4, 3, 2, 1, 7, 6, 5, 4, 3, 2, 1]\n"
     ]
    }
   ],
   "source": [
    " #iii) To display the same list of elements multiple times\n",
    "lst=lst*2\n",
    "print(lst)"
   ]
  },
  {
   "cell_type": "code",
   "execution_count": 7,
   "id": "6acbda6b",
   "metadata": {},
   "outputs": [
    {
     "name": "stdout",
     "output_type": "stream",
     "text": [
      "[1, 2, 3, 4, 5, 6, 7, 8]\n"
     ]
    }
   ],
   "source": [
    "#iv) To concatenate two list\n",
    "lst1=[1,2,3,4]\n",
    "lst2=[5,6,7,8]\n",
    "concatenated_lst = lst1 + lst2\n",
    "print(concatenated_lst)"
   ]
  },
  {
   "cell_type": "code",
   "execution_count": 8,
   "id": "cbde5321",
   "metadata": {},
   "outputs": [
    {
     "data": {
      "text/plain": [
       "[6, 7, 66, 77]"
      ]
     },
     "execution_count": 8,
     "metadata": {},
     "output_type": "execute_result"
    }
   ],
   "source": [
    "#v) To sort the elements in the list in ascending order\n",
    "lst=[66,77,7,6]\n",
    "lst.sort()\n",
    "lst\n"
   ]
  },
  {
   "cell_type": "markdown",
   "id": "04330fe5",
   "metadata": {},
   "source": [
    "# 2.Write a python program to do in the tuples\n",
    "i) Manipulate using tuples\n",
    "ii) To add new elements to the end of the tuples\n",
    "iii) To reverse elements in the list\n",
    "iv) To display the elements of the same tuple multiple times\n",
    "v) To concatenate two tuples\n",
    "vi) To sort the elements in the list in ascending order"
   ]
  },
  {
   "cell_type": "code",
   "execution_count": 11,
   "id": "e3d53693",
   "metadata": {},
   "outputs": [
    {
     "name": "stdout",
     "output_type": "stream",
     "text": [
      "(1, 2, 3, 4)\n"
     ]
    }
   ],
   "source": [
    "tuple=(1,2,3,4)\n",
    "print(tuple)\n"
   ]
  },
  {
   "cell_type": "code",
   "execution_count": 12,
   "id": "83590561",
   "metadata": {},
   "outputs": [
    {
     "data": {
      "text/plain": [
       "(1, 2, 3, 4)"
      ]
     },
     "execution_count": 12,
     "metadata": {},
     "output_type": "execute_result"
    }
   ],
   "source": [
    "#i)Manipulate using tuples\n",
    "tuple=(1,2,3,4)\n",
    "tuple"
   ]
  },
  {
   "cell_type": "code",
   "execution_count": 21,
   "id": "b80f6fff",
   "metadata": {},
   "outputs": [
    {
     "name": "stdout",
     "output_type": "stream",
     "text": [
      "(1, 2, 3, 4, 5, 6, 7, 8)\n"
     ]
    }
   ],
   "source": [
    " #ii) To add new elements to the end of the tuples\n",
    "tuple1 = (1,2,3,4) \n",
    "tuple2 = (5,6,7,8) \n",
    "result = tuple1 + tuple2\n",
    "print(result)"
   ]
  },
  {
   "cell_type": "code",
   "execution_count": 23,
   "id": "10d41b3f",
   "metadata": {},
   "outputs": [
    {
     "name": "stdout",
     "output_type": "stream",
     "text": [
      "Reversed tuple: (4, 3, 2, 1)\n"
     ]
    }
   ],
   "source": [
    "#iii) To reverse elements in the list\n",
    "mytuple=(1,2,3,4)\n",
    "reversedtuple=mytuple[::-1]\n",
    "print('Reversed tuple:',reversedtuple)"
   ]
  },
  {
   "cell_type": "code",
   "execution_count": 26,
   "id": "67718bae",
   "metadata": {},
   "outputs": [
    {
     "name": "stdout",
     "output_type": "stream",
     "text": [
      "(1, 2, 3, 4, 1, 2, 3, 4, 1, 2, 3, 4)\n"
     ]
    }
   ],
   "source": [
    "#iv) To display the elements of the same tuple multiple times\n",
    "tuple=tuple*3\n",
    "print(tuple)"
   ]
  },
  {
   "cell_type": "code",
   "execution_count": 37,
   "id": "f0936e21",
   "metadata": {},
   "outputs": [
    {
     "data": {
      "text/plain": [
       "(1, 2, 3, 4, 5, 6, 7, 8)"
      ]
     },
     "execution_count": 37,
     "metadata": {},
     "output_type": "execute_result"
    }
   ],
   "source": [
    "#v) To concatenate two tuples \n",
    "tuple1 = (1,2,3,4)\n",
    "tuple2 = (5,6,7,8)\n",
    "tuple3 = tuple1+tuple2\n",
    "tuple3"
   ]
  },
  {
   "cell_type": "code",
   "execution_count": 8,
   "id": "ccaa8bb6",
   "metadata": {},
   "outputs": [
    {
     "name": "stdout",
     "output_type": "stream",
     "text": [
      "[1, 6, 7, 9]\n"
     ]
    }
   ],
   "source": [
    "#vi) To sort the elements in the list in ascending order\n",
    "tuple=(7,1,9,6)\n",
    "tuple1=sorted(tuple)\n",
    "print(tuple1)\n"
   ]
  },
  {
   "cell_type": "markdown",
   "id": "83a90e96",
   "metadata": {},
   "source": [
    "# 3.Write a python program to implement the following using list\n",
    "i) Create a list with integers(minimum 10 numbers)\n",
    "ii) How to display the last number in the list\n",
    "iii) Command for display the values from the list[0:4]\n",
    "iv) Command for display the values from the list[2:]\n",
    "v) Command for displaying the values from the list[:6]"
   ]
  },
  {
   "cell_type": "code",
   "execution_count": 9,
   "id": "51ed40a5",
   "metadata": {},
   "outputs": [
    {
     "data": {
      "text/plain": [
       "[1, 2, 3, 4, 5, 6, 7, 8, 9, 10]"
      ]
     },
     "execution_count": 9,
     "metadata": {},
     "output_type": "execute_result"
    }
   ],
   "source": [
    "#i) Create a list with integers(minimum 10 numbers)\n",
    "lst=[1,2,3,4,5,6,7,8,9,10]\n",
    "lst"
   ]
  },
  {
   "cell_type": "code",
   "execution_count": 10,
   "id": "75d0ace0",
   "metadata": {},
   "outputs": [
    {
     "name": "stdout",
     "output_type": "stream",
     "text": [
      "The last number in the list is: 10\n"
     ]
    }
   ],
   "source": [
    "#ii) How to display the last number in the list\n",
    "last_number=lst[-1]\n",
    "print('The last number in the list is:',last_number)"
   ]
  },
  {
   "cell_type": "code",
   "execution_count": 12,
   "id": "70595dfd",
   "metadata": {},
   "outputs": [
    {
     "name": "stdout",
     "output_type": "stream",
     "text": [
      "[1, 2, 3, 4]\n"
     ]
    }
   ],
   "source": [
    "#iii) Command for display the values from the list[0:4]\n",
    "values_from_0_to_3=lst[0:4]\n",
    "print(values_from_0_to_3)"
   ]
  },
  {
   "cell_type": "code",
   "execution_count": 13,
   "id": "0b1ddcc4",
   "metadata": {},
   "outputs": [
    {
     "name": "stdout",
     "output_type": "stream",
     "text": [
      "[3, 4, 5, 6, 7, 8, 9, 10]\n"
     ]
    }
   ],
   "source": [
    "#iv) Command for display the values from the list[2:]\n",
    "values_from_index_2_to_end=lst[2:]\n",
    "print(values_from_index_2_to_end)\n"
   ]
  },
  {
   "cell_type": "code",
   "execution_count": 14,
   "id": "86fb4aad",
   "metadata": {},
   "outputs": [
    {
     "name": "stdout",
     "output_type": "stream",
     "text": [
      "[1, 2, 3, 4, 5, 6]\n"
     ]
    }
   ],
   "source": [
    "#v) Command for displaying the values from the list[:6]\n",
    "values_from_beginning_to_5=lst[:6]\n",
    "print(values_from_beginning_to_5)\n"
   ]
  },
  {
   "cell_type": "markdown",
   "id": "64e6a01a",
   "metadata": {},
   "source": [
    "# 4.Write a python program:tuple1=(10,50,20,40,30)\n",
    "i) To display the elements 10 and 50 from tuple1\n",
    "ii) To display the length of tuple1\n",
    "iii) To find the minimum element from tuple1\n",
    "iv) To add all elements in tuple1\n",
    "v) To display the same tuple1 multiple times"
   ]
  },
  {
   "cell_type": "code",
   "execution_count": 16,
   "id": "67b827e7",
   "metadata": {},
   "outputs": [
    {
     "name": "stdout",
     "output_type": "stream",
     "text": [
      "element 10: 10\n",
      "element 50: 50\n"
     ]
    }
   ],
   "source": [
    "#i) To display the elements 10 and 50 from tuple1\n",
    "tuple1=(10,50,20,40,30)\n",
    "element_10=tuple1[0]\n",
    "element_50=tuple1[1]\n",
    "print('element 10:',element_10)\n",
    "print('element 50:',element_50)"
   ]
  },
  {
   "cell_type": "code",
   "execution_count": 17,
   "id": "b5425a20",
   "metadata": {},
   "outputs": [
    {
     "name": "stdout",
     "output_type": "stream",
     "text": [
      "5\n"
     ]
    }
   ],
   "source": [
    "#ii) To display the length of tuple1\n",
    "length_of_tuple1=len(tuple1)\n",
    "print(length_of_tuple1)"
   ]
  },
  {
   "cell_type": "code",
   "execution_count": 18,
   "id": "f6acedca",
   "metadata": {},
   "outputs": [
    {
     "name": "stdout",
     "output_type": "stream",
     "text": [
      "10\n"
     ]
    }
   ],
   "source": [
    "#iii) To find the minimum element from tuple1\n",
    "minimum_element=min(tuple1)\n",
    "print(minimum_element)"
   ]
  },
  {
   "cell_type": "code",
   "execution_count": 19,
   "id": "f46b798f",
   "metadata": {},
   "outputs": [
    {
     "name": "stdout",
     "output_type": "stream",
     "text": [
      "sum of all elements in tuple1: 150\n"
     ]
    }
   ],
   "source": [
    "#iv) To add all elements in tuple1\n",
    "total=sum(tuple1)\n",
    "print('sum of all elements in tuple1:',total)"
   ]
  },
  {
   "cell_type": "code",
   "execution_count": 21,
   "id": "d7455fd6",
   "metadata": {},
   "outputs": [
    {
     "name": "stdout",
     "output_type": "stream",
     "text": [
      "result: (10, 50, 20, 40, 30, 10, 50, 20, 40, 30, 10, 50, 20, 40, 30)\n"
     ]
    }
   ],
   "source": [
    "#v) To display the same tuple1 multiple times\n",
    "result=tuple1*3\n",
    "print('result:',result)"
   ]
  },
  {
   "cell_type": "markdown",
   "id": "9e206a88",
   "metadata": {},
   "source": [
    "# 5.Write a python program\n",
    "i) To calculate the length of a string\n",
    "ii) To reverse words in a string\n",
    "iii) To display the same string multiple times\n",
    "iv) To concatenate two strings\n",
    "v) Str1=\"South India\",using string slicing to display\"India\""
   ]
  },
  {
   "cell_type": "code",
   "execution_count": 24,
   "id": "dcdc4264",
   "metadata": {},
   "outputs": [
    {
     "name": "stdout",
     "output_type": "stream",
     "text": [
      "11\n"
     ]
    }
   ],
   "source": [
    "#i) To calculate the length of a string \n",
    "str=\"Hello World\"\n",
    "len_of_string=len(str)\n",
    "print(len_of_string)\n"
   ]
  },
  {
   "cell_type": "code",
   "execution_count": 40,
   "id": "b5abbc32",
   "metadata": {},
   "outputs": [
    {
     "name": "stdout",
     "output_type": "stream",
     "text": [
      "reversed_string: WORLD HELLO\n"
     ]
    }
   ],
   "source": [
    "#ii) To reverse words in a string\n",
    "string=\" HELLO WORLD\"\n",
    "words=string.split()\n",
    "reversed_words=words[::-1]\n",
    "reversed_string=' '.join(reversed_words)\n",
    "print(\"reversed_string:\",reversed_string)"
   ]
  },
  {
   "cell_type": "code",
   "execution_count": 41,
   "id": "5e11e112",
   "metadata": {},
   "outputs": [
    {
     "name": "stdout",
     "output_type": "stream",
     "text": [
      " HELLO WORLD HELLO WORLD HELLO WORLD\n"
     ]
    }
   ],
   "source": [
    "#iii) To display the same string multiple times\n",
    "print(string*3)"
   ]
  },
  {
   "cell_type": "code",
   "execution_count": 43,
   "id": "65cfc320",
   "metadata": {},
   "outputs": [
    {
     "name": "stdout",
     "output_type": "stream",
     "text": [
      "Hello World!\n"
     ]
    }
   ],
   "source": [
    "#iv) To concatenate two strings\n",
    "s1='Hello '\n",
    "s2='World!'\n",
    "s3=s1+s2\n",
    "print(s3)\n"
   ]
  },
  {
   "cell_type": "code",
   "execution_count": 45,
   "id": "990a49df",
   "metadata": {},
   "outputs": [
    {
     "name": "stdout",
     "output_type": "stream",
     "text": [
      " India\n"
     ]
    }
   ],
   "source": [
    "#v) Str1=\"South India\",using string slicing to display\"India\"\n",
    "V=\"South India\"\n",
    "print(V[5:])\n"
   ]
  },
  {
   "cell_type": "markdown",
   "id": "d333e990",
   "metadata": {},
   "source": [
    "# 6. Perform the following\n",
    "i) Creating the Dictionary\n",
    "ii) Accessing values and keys in the Dictionary\n",
    "iii) Updating the dictionary using a function\n",
    "iv) Clear and delete the dictionary values"
   ]
  },
  {
   "cell_type": "code",
   "execution_count": 50,
   "id": "3b909196",
   "metadata": {},
   "outputs": [
    {
     "name": "stdout",
     "output_type": "stream",
     "text": [
      "{'name': 'john', 'age': '20', 'grade': 'A+'}\n"
     ]
    }
   ],
   "source": [
    "#i) Creating the Dictionary\n",
    "student={'name':'john','age':'20','grade':'A+'}\n",
    "print(student)"
   ]
  },
  {
   "cell_type": "code",
   "execution_count": 53,
   "id": "63c0d308",
   "metadata": {},
   "outputs": [
    {
     "name": "stdout",
     "output_type": "stream",
     "text": [
      "20\n"
     ]
    }
   ],
   "source": [
    "#ii) Accessing values and keys in the Dictionary\n",
    "student={'name':'john','age':'20','grade':'A+'}\n",
    "age=student['age']\n",
    "print(age)"
   ]
  },
  {
   "cell_type": "code",
   "execution_count": 58,
   "id": "e10d469d",
   "metadata": {},
   "outputs": [
    {
     "name": "stdout",
     "output_type": "stream",
     "text": [
      "{'name': 'john', 'age': '20'}\n"
     ]
    }
   ],
   "source": [
    "# iii) Updating the dictionary using a function \n",
    "student={'name':'john','age':'20'}\n",
    "student.update(student)\n",
    "print(student)"
   ]
  },
  {
   "cell_type": "code",
   "execution_count": 62,
   "id": "85fe8938",
   "metadata": {},
   "outputs": [
    {
     "name": "stdout",
     "output_type": "stream",
     "text": [
      "{'name': 'john'}\n",
      "{}\n"
     ]
    }
   ],
   "source": [
    "#iv) Clear and delete the dictionary values\n",
    "del student['age']\n",
    "print(student)\n",
    "student.clear()\n",
    "print(student)"
   ]
  },
  {
   "cell_type": "markdown",
   "id": "f057981f",
   "metadata": {},
   "source": [
    "# 7.Python program to insert a number to any position in a list"
   ]
  },
  {
   "cell_type": "code",
   "execution_count": 63,
   "id": "2c885125",
   "metadata": {},
   "outputs": [
    {
     "name": "stdout",
     "output_type": "stream",
     "text": [
      "[1, 2, 3, 4, 5, 6]\n"
     ]
    }
   ],
   "source": [
    "lst=[1,2,4,5,6]\n",
    "num_to_insert=3\n",
    "position=2\n",
    "lst.insert(position,num_to_insert)\n",
    "print(lst)"
   ]
  },
  {
   "cell_type": "markdown",
   "id": "f340a07c",
   "metadata": {},
   "source": [
    "# 8.Python program to delete an element from a list by index"
   ]
  },
  {
   "cell_type": "code",
   "execution_count": 64,
   "id": "7460fc36",
   "metadata": {},
   "outputs": [
    {
     "name": "stdout",
     "output_type": "stream",
     "text": [
      "[1, 2, 3, 4]\n"
     ]
    }
   ],
   "source": [
    "lst=[1,2,5,3,4]\n",
    "index_to_delete=2\n",
    "lst.pop(index_to_delete)\n",
    "print(lst)"
   ]
  },
  {
   "cell_type": "markdown",
   "id": "56b4c388",
   "metadata": {},
   "source": [
    "# 9.Write a program to display a number from 1 to 100"
   ]
  },
  {
   "cell_type": "code",
   "execution_count": 69,
   "id": "061672e6",
   "metadata": {},
   "outputs": [
    {
     "name": "stdout",
     "output_type": "stream",
     "text": [
      "1 2 3 4 5 6 7 8 9 10 11 12 13 14 15 16 17 18 19 20 21 22 23 24 25 26 27 28 29 30 31 32 33 34 35 36 37 38 39 40 41 42 43 44 45 46 47 48 49 50 51 52 53 54 55 56 57 58 59 60 61 62 63 64 65 66 67 68 69 70 71 72 73 74 75 76 77 78 79 80 81 82 83 84 85 86 87 88 89 90 91 92 93 94 95 96 97 98 99 100 "
     ]
    }
   ],
   "source": [
    "n=1\n",
    "while n<=100:\n",
    "    print(n,end=\" \")\n",
    "    n=n+1"
   ]
  },
  {
   "cell_type": "markdown",
   "id": "2dfea2b7",
   "metadata": {},
   "source": [
    "# 10.Write a python program to find the sum of all items in a tuple"
   ]
  },
  {
   "cell_type": "code",
   "execution_count": 70,
   "id": "176e344b",
   "metadata": {},
   "outputs": [
    {
     "name": "stdout",
     "output_type": "stream",
     "text": [
      "sum of elements in tuple: 10\n",
      "sum of elements in tuple: 30\n",
      "sum of elements in tuple: 60\n",
      "sum of elements in tuple: 100\n",
      "sum of elements in tuple: 150\n"
     ]
    }
   ],
   "source": [
    "t=(10,20,30,40,50)\n",
    "sum_of_elements=0\n",
    "for element in t:\n",
    "    sum_of_elements += element\n",
    "    print(\"sum of elements in tuple:\",sum_of_elements )"
   ]
  },
  {
   "cell_type": "markdown",
   "id": "4ef775a1",
   "metadata": {},
   "source": [
    "# 11.Create a dictionary containing three lambda functions square,cube and squareroot.\n",
    "i) E.g dict={'Square':function for squaring,'Cube':function for cube,'Squareroot':function for square root}\n",
    "ii) Pass the values(input from the users) to the functions in the dictionary respectively\n",
    "iii) Then add the output of each function and print it"
   ]
  },
  {
   "cell_type": "code",
   "execution_count": 2,
   "id": "bf0d4cf5",
   "metadata": {},
   "outputs": [
    {
     "name": "stdout",
     "output_type": "stream",
     "text": [
      "sqaure: 216\n",
      "cube: 36\n",
      "Square Root: 2.930156051583521\n"
     ]
    }
   ],
   "source": [
    "math_operations = { \n",
    "    'square' : lambda x: x**3,\n",
    "    'cube' : lambda x: x**2,\n",
    "    'square_root' : lambda x: x**0.6\n",
    "    \n",
    "}\n",
    "number=6\n",
    "print(\"sqaure:\", math_operations['square'](number))\n",
    "print(\"cube:\", math_operations['cube'](number))\n",
    "print(\"Square Root:\", math_operations['square_root'](number))"
   ]
  },
  {
   "cell_type": "markdown",
   "id": "9459498d",
   "metadata": {},
   "source": [
    "# 12.A list of words is given.Find the words from the list that have their second character in uppercase. ls=['hello','Dear','hOw','Are','You']\n"
   ]
  },
  {
   "cell_type": "code",
   "execution_count": 5,
   "id": "18d3532b",
   "metadata": {},
   "outputs": [
    {
     "name": "stdout",
     "output_type": "stream",
     "text": [
      "['hello', 'Dear', 'hOw', 'Are', 'You']\n",
      "['hOw']\n"
     ]
    }
   ],
   "source": [
    "ls=['hello','Dear','hOw','Are','You']\n",
    "res=[]\n",
    "for i in ls:\n",
    "  if i[1].isupper():\n",
    "        res.append(i)\n",
    "print(ls)\n",
    "print(res)\n"
   ]
  },
  {
   "cell_type": "markdown",
   "id": "f9e52350",
   "metadata": {},
   "source": [
    "# 13.A dictionary of names and their weights on earth is given.Find how much they will weigh on the moon.(Use map and lambda fubctions) Formula:wMoon=(wEarth*GMoon)/GEarth"
   ]
  },
  {
   "cell_type": "code",
   "execution_count": 7,
   "id": "79f05d1f",
   "metadata": {},
   "outputs": [
    {
     "name": "stdout",
     "output_type": "stream",
     "text": [
      "mahesh : 4.30 kg\n",
      "kiara : 3.80 kg\n",
      "akshaya : 2.98 kg\n"
     ]
    }
   ],
   "source": [
    "gmoon=1.622\n",
    "gearth=9.81\n",
    "weightonearth={'mahesh':26,'kiara':23,'akshaya':18}\n",
    "moon_weight={name:(weight*gmoon)/gearth for name,weight in weightonearth.items()}\n",
    "for name,weight_moon in moon_weight.items():\n",
    "    print(f'{name} : {weight_moon:.2f} kg')"
   ]
  },
  {
   "cell_type": "markdown",
   "id": "6d5a2725",
   "metadata": {},
   "source": [
    "# CONTROL STRUCTURES"
   ]
  },
  {
   "cell_type": "markdown",
   "id": "c967192b",
   "metadata": {},
   "source": [
    "# 1.Write a python program to find the first N Prime numbers."
   ]
  },
  {
   "cell_type": "code",
   "execution_count": 8,
   "id": "f893e185",
   "metadata": {},
   "outputs": [
    {
     "name": "stdout",
     "output_type": "stream",
     "text": [
      "The first 30 prime numbers are:[2, 3, 5, 7, 11, 13, 17, 19, 23, 29, 31, 37, 41, 43, 47, 53, 59, 61, 67, 71, 73, 79, 83, 89, 97, 101, 103, 107, 109, 113]\n"
     ]
    }
   ],
   "source": [
    "def is_prime(num):\n",
    "    if num <= 1:\n",
    "        return False\n",
    "    if num <= 3:\n",
    "        return True\n",
    "    if num % 2 == 0 or num % 3 == 0:\n",
    "        return False\n",
    "    i = 5\n",
    "    while i * i <= num:\n",
    "         if num % i == 0 or num % (i + 2) == 0:\n",
    "            return False\n",
    "         i += 6\n",
    "    return True\n",
    "\n",
    "def find_primes(N):\n",
    "    primes = []\n",
    "    num = 2\n",
    "    while len(primes) < N:\n",
    "              if is_prime(num):\n",
    "                primes.append(num)\n",
    "              num += 1\n",
    "    return primes\n",
    "\n",
    "N = 30\n",
    "prime_list = find_primes(N)\n",
    "print(f\"The first {N} prime numbers are:{prime_list}\")"
   ]
  },
  {
   "cell_type": "markdown",
   "id": "cbd21a9a",
   "metadata": {},
   "source": [
    "# 2.Write the python code that calculates the salary of an employee.Prompt the user to enter the Basic Salary,HRA,TA, and DA.Add these components to calculate the Gross Salary.Also,deduct 10% of salary from the Gross Salary to be paid as tax and display gross minus tax as net salary."
   ]
  },
  {
   "cell_type": "code",
   "execution_count": 17,
   "id": "243db922",
   "metadata": {},
   "outputs": [
    {
     "name": "stdout",
     "output_type": "stream",
     "text": [
      "Enter the Base Salary14000\n",
      "Enter the HRA8000\n",
      "Enter the TA3000\n",
      "Enter the DA8\n",
      "The net salary of an employee is after 1400.0 tax deduction is: 25008.0\n"
     ]
    }
   ],
   "source": [
    "Basic_sal = float(input(\"Enter the Base Salary\"))\n",
    "HRA = int(input(\"Enter the HRA\"))\n",
    "TA = int(input(\"Enter the TA\")) \n",
    "DA = int(input(\"Enter the DA\"))\n",
    "\n",
    "Gross_salary = Basic_sal+ float (HRA) + float (TA) + float (DA)\n",
    "\n",
    "net_salary = Gross_salary-(float (Basic_sal)*0.1)\n",
    "\n",
    "print(\"The net salary of an employee is after \" + str(float (Basic_sal)*0.1)+\" tax deduction is: \"+str(Gross_salary))"
   ]
  },
  {
   "cell_type": "markdown",
   "id": "0fc60b68",
   "metadata": {},
   "source": [
    "# 3.Write a python program to search for a string in the given list."
   ]
  },
  {
   "cell_type": "code",
   "execution_count": 18,
   "id": "23c2b599",
   "metadata": {},
   "outputs": [
    {
     "name": "stdout",
     "output_type": "stream",
     "text": [
      "varnav\n"
     ]
    }
   ],
   "source": [
    "a=[\"4\",\"20\",\"varnav\",\"66\"]\n",
    "b=\"varnav\"\n",
    "if b in a:\n",
    "    print(f\"{b}\")\n",
    "else:\n",
    "    print(f\"{s}\")\n"
   ]
  },
  {
   "cell_type": "markdown",
   "id": "b9b60e31",
   "metadata": {},
   "source": [
    "# 4.Write a python function that accepts a string and calculates the number of upper-case letters and lower-case letters"
   ]
  },
  {
   "cell_type": "code",
   "execution_count": 19,
   "id": "905a16cc",
   "metadata": {},
   "outputs": [
    {
     "name": "stdout",
     "output_type": "stream",
     "text": [
      "Uppercase letters: 0\n",
      "Lowercase letters: 6\n"
     ]
    }
   ],
   "source": [
    "def count_upper_lower(n):\n",
    "    upper_count = 0\n",
    "    lower_count = 0\n",
    "    for char in n:\n",
    "        if char.isupper():\n",
    "            upper_count += 1\n",
    "        elif char.islower():\n",
    "            lower_count += 1\n",
    "    return upper_count, lower_count\n",
    "\n",
    "input_string = \"python\"\n",
    "upper, lower = count_upper_lower(input_string)\n",
    "\n",
    "print(\"Uppercase letters:\", upper)\n",
    "print(\"Lowercase letters:\", lower)"
   ]
  },
  {
   "cell_type": "markdown",
   "id": "3b747760",
   "metadata": {},
   "source": [
    "# 5.Write a program to display the sum of odd numbers and even numbers that fall between 12 and 37"
   ]
  },
  {
   "cell_type": "code",
   "execution_count": 23,
   "id": "7bcd6874",
   "metadata": {},
   "outputs": [
    {
     "name": "stdout",
     "output_type": "stream",
     "text": [
      "Sum of odd numbers: 288\n",
      "Sum of even numbers: 312\n"
     ]
    }
   ],
   "source": [
    "odd_sum = 0\n",
    "even_sum = 0\n",
    "\n",
    "for number in range(12, 37):\n",
    "    if number % 2 == 0:  # Check if the number is even\n",
    "        even_sum += number\n",
    "    else:\n",
    "        odd_sum += number\n",
    "\n",
    "print(\"Sum of odd numbers:\", odd_sum)\n",
    "print(\"Sum of even numbers:\", even_sum)"
   ]
  },
  {
   "cell_type": "markdown",
   "id": "ba4dfc8e",
   "metadata": {},
   "source": [
    "# 6.Write a python program to print the table of any number"
   ]
  },
  {
   "cell_type": "code",
   "execution_count": 22,
   "id": "2f6c2de1",
   "metadata": {},
   "outputs": [
    {
     "name": "stdout",
     "output_type": "stream",
     "text": [
      "table of 5:\n",
      "5*1=5\n",
      "5*2=10\n",
      "5*3=15\n",
      "5*4=20\n",
      "5*5=25\n",
      "5*6=30\n",
      "5*7=35\n",
      "5*8=40\n",
      "5*9=45\n",
      "5*10=50\n"
     ]
    }
   ],
   "source": [
    "num=5\n",
    "print(f\"table of {5}:\")\n",
    "for i in range(1,11):\n",
    "    print(f\"{num}*{i}={num*i}\")"
   ]
  },
  {
   "cell_type": "markdown",
   "id": "ba0213d7",
   "metadata": {},
   "source": [
    "# 7.Write a python program to sum the first 10 prime numbers"
   ]
  },
  {
   "cell_type": "code",
   "execution_count": 24,
   "id": "fa5bb9ef",
   "metadata": {},
   "outputs": [
    {
     "name": "stdout",
     "output_type": "stream",
     "text": [
      "The sum of the first 10 prime numbers is: 129\n"
     ]
    }
   ],
   "source": [
    "count = 0\n",
    "number = 2\n",
    "prime_sum = 0\n",
    "\n",
    "while count < 10:\n",
    "    if is_prime(number):\n",
    "        prime_sum += number\n",
    "        count += 1\n",
    "    number += 1\n",
    "\n",
    "print(f\"The sum of the first 10 prime numbers is: {prime_sum}\")"
   ]
  },
  {
   "cell_type": "markdown",
   "id": "f9ace6d7",
   "metadata": {},
   "source": [
    "# 8.Write a python program to implement arithmetic operations using nested if statement"
   ]
  },
  {
   "cell_type": "code",
   "execution_count": 25,
   "id": "03ce498d",
   "metadata": {},
   "outputs": [
    {
     "name": "stdout",
     "output_type": "stream",
     "text": [
      "Enter an arithmetic operator (+, -, *, /): +\n",
      "Enter the first number: 33\n",
      "Enter the second number: 33\n",
      "Result: 66.0\n"
     ]
    }
   ],
   "source": [
    "def perform_arithmetic_operation(operator, num1, num2):\n",
    "    if operator == '+':\n",
    "        result = num1 + num2\n",
    "    elif operator == '-':\n",
    "        result = num1 - num2\n",
    "    elif operator == '*':\n",
    "        result = num1 * num2\n",
    "    elif operator == '/':\n",
    "        if num2 != 0:\n",
    "            result = num1 / num2\n",
    "        else:\n",
    "            result = \"Division by zero is not allowed\"\n",
    "    else:\n",
    "        result = \"Invalid operator\"\n",
    "\n",
    "    return result\n",
    "operator = input(\"Enter an arithmetic operator (+, -, *, /): \")\n",
    "num1 = float(input(\"Enter the first number: \"))\n",
    "num2 = float(input(\"Enter the second number: \"))\n",
    "result = perform_arithmetic_operation(operator, num1, num2)\n",
    "print(f\"Result: {result}\")"
   ]
  },
  {
   "cell_type": "markdown",
   "id": "a2534cdb",
   "metadata": {},
   "source": [
    "# 9.Write a python program to take the temperature in celcius and convert it into a Farenheit"
   ]
  },
  {
   "cell_type": "code",
   "execution_count": 26,
   "id": "c9a24731",
   "metadata": {},
   "outputs": [
    {
     "name": "stdout",
     "output_type": "stream",
     "text": [
      "Enter temperature in Celsius: 100\n",
      "100.0 degrees Celsius is equal to 212.0 degrees Fahrenheit\n"
     ]
    }
   ],
   "source": [
    "celsius = float(input(\"Enter temperature in Celsius: \"))\n",
    "fahrenheit = (celsius * 9/5) + 32\n",
    "print(f\"{celsius} degrees Celsius is equal to {fahrenheit} degrees Fahrenheit\")"
   ]
  },
  {
   "cell_type": "markdown",
   "id": "92a54b42",
   "metadata": {},
   "source": [
    "# 10.Write a python program to find a maximum and minimum number in a list without using an inbuilt function"
   ]
  },
  {
   "cell_type": "code",
   "execution_count": 27,
   "id": "84dc5c7e",
   "metadata": {},
   "outputs": [
    {
     "name": "stdout",
     "output_type": "stream",
     "text": [
      "Maximum: 9\n",
      "Minimum: 1\n"
     ]
    }
   ],
   "source": [
    "my_list = [3, 1, 9, 5, 7, 2, 8, 4]\n",
    "maximum = my_list[0]\n",
    "minimum = my_list[0]\n",
    "for num in my_list:\n",
    "    if num > maximum:\n",
    "        maximum = num\n",
    "    if num < minimum:\n",
    "        minimum = num\n",
    "print(\"Maximum:\", maximum)\n",
    "print(\"Minimum:\", minimum)"
   ]
  },
  {
   "cell_type": "markdown",
   "id": "d69e809d",
   "metadata": {},
   "source": [
    "# 11.Write a program in python to print out the number of seconds in 30-day month 30days,24hours in a day,60min per day,60sec in a minute"
   ]
  },
  {
   "cell_type": "code",
   "execution_count": 28,
   "id": "50169e93",
   "metadata": {},
   "outputs": [
    {
     "name": "stdout",
     "output_type": "stream",
     "text": [
      "Number of seconds in a 30-day month: 2592000\n"
     ]
    }
   ],
   "source": [
    "days_in_month = 30\n",
    "hours_in_day = 24\n",
    "minutes_in_hour = 60\n",
    "seconds_in_minute = 60\n",
    "total_seconds = days_in_month * hours_in_day * minutes_in_hour * seconds_in_minute\n",
    "print(\"Number of seconds in a 30-day month:\", total_seconds)"
   ]
  },
  {
   "cell_type": "markdown",
   "id": "27a8169c",
   "metadata": {},
   "source": [
    "# 12.Write a program in python to print out the number of seconds in a year"
   ]
  },
  {
   "cell_type": "code",
   "execution_count": 29,
   "id": "e549d846",
   "metadata": {},
   "outputs": [
    {
     "name": "stdout",
     "output_type": "stream",
     "text": [
      "Seconds in a regular year: 31536000\n",
      "Seconds in a leap year: 31622400\n"
     ]
    }
   ],
   "source": [
    "days_in_regular_year = 365\n",
    "days_in_leap_year = 366\n",
    "hours_in_day = 24\n",
    "minutes_in_hour = 60\n",
    "seconds_in_minute = 60\n",
    "total_seconds_regular = days_in_regular_year * hours_in_day * minutes_in_hour * seconds_in_minute\n",
    "total_seconds_leap = days_in_leap_year * hours_in_day * minutes_in_hour * seconds_in_minute\n",
    "print(\"Seconds in a regular year:\", total_seconds_regular)\n",
    "print(\"Seconds in a leap year:\", total_seconds_leap)"
   ]
  },
  {
   "cell_type": "markdown",
   "id": "f761ade9",
   "metadata": {},
   "source": [
    "# 13.A high-speed train can travel at an average speed of 150 mph, how long will it take a train travelling at this speed to travel from London to Glasgow which is 414 miles away?"
   ]
  },
  {
   "cell_type": "code",
   "execution_count": 30,
   "id": "5f1cfc9b",
   "metadata": {},
   "outputs": [
    {
     "name": "stdout",
     "output_type": "stream",
     "text": [
      "It will take approximately 2.76 hours to travel from London to Glasgow.\n"
     ]
    }
   ],
   "source": [
    "def travel_time(distance, speed):\n",
    "    time = distance / speed\n",
    "    return time\n",
    "\n",
    "distance = 414  \n",
    "speed = 150  \n",
    "\n",
    "time_taken = travel_time(distance, speed)\n",
    "\n",
    "print(f\"It will take approximately {time_taken:.2f} hours to travel from London to Glasgow.\")"
   ]
  },
  {
   "cell_type": "markdown",
   "id": "6a3fc1c0",
   "metadata": {},
   "source": [
    "# 14. Write a python program that defines a variable called days_in_each_school_year and assign 192 to the variable. The program should then print out the total hours that you spend in school from year 7 to year 11, if each day you spend 6 hours in school days_in_each_school_year = 192"
   ]
  },
  {
   "cell_type": "code",
   "execution_count": 31,
   "id": "0c58f183",
   "metadata": {},
   "outputs": [
    {
     "name": "stdout",
     "output_type": "stream",
     "text": [
      "Total hours spent in school from year 7 to year 11: 5760\n"
     ]
    }
   ],
   "source": [
    "days_in_each_school_year = 192\n",
    "\n",
    "start_year = 7\n",
    "end_year = 11\n",
    "\n",
    "hours_per_day = 6\n",
    "\n",
    "total_hours = (end_year - start_year + 1) * days_in_each_school_year * hours_per_day\n",
    "\n",
    "print(f\"Total hours spent in school from year {start_year} to year {end_year}: {total_hours}\")"
   ]
  },
  {
   "cell_type": "markdown",
   "id": "23307e63",
   "metadata": {},
   "source": [
    "# 15. If the age of Ram,Sam and Khan are input through the keyboard, write a python program to determine the eldest and younger of the three"
   ]
  },
  {
   "cell_type": "code",
   "execution_count": 32,
   "id": "5ec9bdc2",
   "metadata": {},
   "outputs": [
    {
     "name": "stdout",
     "output_type": "stream",
     "text": [
      "Enter Ram's age: 20\n",
      "Enter Sam's age: 21\n",
      "Enter Khan's age: 22\n",
      "The eldest person is Khan with age 22.\n",
      "The youngest person is Ram with age 20.\n"
     ]
    }
   ],
   "source": [
    "def find_elder_and_younger(ram_age, sam_age, khan_age):\n",
    "    ages = {'Ram': ram_age, 'Sam': sam_age, 'Khan': khan_age}\n",
    "\n",
    "    eldest = max(ages, key=ages.get)\n",
    "    youngest = min(ages, key=ages.get)\n",
    "\n",
    "    return eldest, youngest\n",
    "\n",
    "ram_age = int(input(\"Enter Ram's age: \"))\n",
    "sam_age = int(input(\"Enter Sam's age: \"))\n",
    "khan_age = int(input(\"Enter Khan's age: \"))\n",
    "\n",
    "eldest, youngest = find_elder_and_younger(ram_age, sam_age, khan_age)\n",
    "\n",
    "print(f\"The eldest person is {eldest} with age {globals()[f'{eldest.lower()}_age']}.\")\n",
    "print(f\"The youngest person is {youngest} with age {globals()[f'{youngest.lower()}_age']}.\")"
   ]
  },
  {
   "cell_type": "markdown",
   "id": "deaf72d9",
   "metadata": {},
   "source": [
    "# 16.Write a python program to rotate a list by right n times with and without slicing technique."
   ]
  },
  {
   "cell_type": "code",
   "execution_count": 33,
   "id": "2b4c3e74",
   "metadata": {},
   "outputs": [
    {
     "name": "stdout",
     "output_type": "stream",
     "text": [
      "[4, 5, 1, 2, 3]\n"
     ]
    }
   ],
   "source": [
    "#with slicing technique\n",
    "\n",
    "def rotate_list_with_slicing(lst, n):\n",
    "    n = n % len(lst)  \n",
    "    rotated_list = lst[-n:] + lst[:-n]\n",
    "    return rotated_list\n",
    "\n",
    "# Example usage:\n",
    "my_list = [1, 2, 3, 4, 5]\n",
    "n = 2\n",
    "rotated_list = rotate_list_with_slicing(my_list, n)\n",
    "print(rotated_list)"
   ]
  },
  {
   "cell_type": "code",
   "execution_count": 34,
   "id": "d7393bfd",
   "metadata": {},
   "outputs": [
    {
     "name": "stdout",
     "output_type": "stream",
     "text": [
      "[3, 4, 5, 1, 2]\n"
     ]
    }
   ],
   "source": [
    "#without slicing technique\n",
    "\n",
    "def rotate_list_without_slicing(lst, n):\n",
    "    n = n % len(lst)  \n",
    "    rotated_list = []\n",
    "    for i in range(len(lst)):\n",
    "        rotated_index = (i + n) % len(lst)\n",
    "        rotated_list.append(lst[rotated_index])\n",
    "    return rotated_list\n",
    "\n",
    "# Example usage:\n",
    "my_list = [1, 2, 3, 4, 5]\n",
    "n = 2\n",
    "rotated_list = rotate_list_without_slicing(my_list, n)\n",
    "print(rotated_list)"
   ]
  },
  {
   "cell_type": "markdown",
   "id": "ff9f28d2",
   "metadata": {},
   "source": [
    "# 17.Python program to print the below patterns\n",
    "i) 1 1 1 1 2 1 1 3 3 1 1 4 6 4 1 1 5 10 10 5 1 1 6 15 20 15 6 1\n",
    "\n",
    "ii) *   *  *    *  *  *    *  *  *  *    *  *  *  *  * \n",
    "\n",
    "iii)  * \n",
    "     * * \n",
    "    * * *   * * * *   * * * * *   * * * * * *    * * * * * * * \n",
    "    \n",
    "iv) p\n",
    "    py\n",
    "    pyt\n",
    "    pyth\n",
    "    pytho\n",
    "    python\n",
    "\n"
   ]
  },
  {
   "cell_type": "code",
   "execution_count": 57,
   "id": "d258f4b9",
   "metadata": {},
   "outputs": [
    {
     "name": "stdout",
     "output_type": "stream",
     "text": [
      "\n",
      "\n",
      "       1        \n",
      "      1 1       \n",
      "     1 2 1      \n",
      "    1 3 3 1     \n",
      "   1 4 6 4 1    \n",
      " 1 5 10 10 5 1  \n",
      "1 6 15 20 15 6 1\n"
     ]
    }
   ],
   "source": [
    "#i)\n",
    "\n",
    "def pattern1(num_rows):\n",
    "        ans =[]\n",
    "        for i in range(num_rows):\n",
    "            row=[1]\n",
    "            if i > 0:\n",
    "                for j in range(1,i):\n",
    "                    element=ans[i - 1][j - 1] + ans[i -1][j]\n",
    "                    row.append(element)\n",
    "                row.append(1)\n",
    "            ans.append(row)\n",
    "        return ans\n",
    "def print_(ans):\n",
    "    max_width =len(' '.join(map(str,ans[-1])))\n",
    "    for row in ans:\n",
    "        formatted_row = ' '.join(map(str,row))\n",
    "        print(formatted_row.center(max_width))\n",
    "num_rows=7\n",
    "print(\"\\n\")\n",
    "triangle=pattern1(num_rows)\n",
    "print_(triangle)"
   ]
  },
  {
   "cell_type": "code",
   "execution_count": 58,
   "id": "0ffe8e2f",
   "metadata": {},
   "outputs": [
    {
     "name": "stdout",
     "output_type": "stream",
     "text": [
      "*  \n",
      "*  *  \n",
      "*  *  *   \n",
      "*  *  *  *   \n",
      "*  *  *  *  *   \n"
     ]
    }
   ],
   "source": [
    "#ii) \n",
    "\n",
    "def print_pattern(n):\n",
    "    for i in range(n):\n",
    "        for j in range(i+1):\n",
    "            if j == i and i > 1:\n",
    "                print(\"*\", end=\"   \")\n",
    "            else:\n",
    "                print(\"*\", end=\"  \")\n",
    "        print(\"\")\n",
    "\n",
    "# Example usage:\n",
    "n = 5\n",
    "print_pattern(n)"
   ]
  },
  {
   "cell_type": "code",
   "execution_count": 65,
   "id": "c9af9530",
   "metadata": {},
   "outputs": [
    {
     "name": "stdout",
     "output_type": "stream",
     "text": [
      "      * \n",
      "     * * \n",
      "    * * * \n",
      "   * * * * \n",
      "  * * * * * \n",
      " * * * * * * \n",
      "* * * * * * * \n"
     ]
    }
   ],
   "source": [
    "#iii) \n",
    "\n",
    "rows = 7\n",
    "\n",
    "for i in range(rows):\n",
    "    print(\" \"*(rows-i-1) + \"* \"*(i+1))"
   ]
  },
  {
   "cell_type": "code",
   "execution_count": 66,
   "id": "295cfbe4",
   "metadata": {},
   "outputs": [
    {
     "name": "stdout",
     "output_type": "stream",
     "text": [
      "p\n",
      "py\n",
      "pyt\n",
      "pyth\n",
      "pytho\n",
      "python\n"
     ]
    }
   ],
   "source": [
    "#iv) \n",
    "\n",
    "word = \"python\"\n",
    "\n",
    "for i in range(1, len(word) + 1):\n",
    "    print(word[:i])"
   ]
  },
  {
   "cell_type": "code",
   "execution_count": null,
   "id": "0525d040",
   "metadata": {},
   "outputs": [],
   "source": []
  }
 ],
 "metadata": {
  "kernelspec": {
   "display_name": "Python 3 (ipykernel)",
   "language": "python",
   "name": "python3"
  },
  "language_info": {
   "codemirror_mode": {
    "name": "ipython",
    "version": 3
   },
   "file_extension": ".py",
   "mimetype": "text/x-python",
   "name": "python",
   "nbconvert_exporter": "python",
   "pygments_lexer": "ipython3",
   "version": "3.11.4"
  }
 },
 "nbformat": 4,
 "nbformat_minor": 5
}
