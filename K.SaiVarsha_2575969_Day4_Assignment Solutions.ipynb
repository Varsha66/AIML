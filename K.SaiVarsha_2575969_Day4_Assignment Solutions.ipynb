{
 "cells": [
  {
   "cell_type": "markdown",
   "id": "a8cce807",
   "metadata": {},
   "source": [
    "# 1 Write a python program with Exception handling to input marks for five subjects Physics,10\n",
    "Chemistry, Biology, Mathematics, and Computer. Calculate the percentage and grade according\n",
    "to the following\n",
    "i)Percentage >= 90%: GradeA\n",
    "ii)Percentage>= 8O%; GradeB\n",
    "iii)Percentage->= 70%: Grade C\n",
    "iv)Percentage >= 60%: Grade D\n",
    "v)Percentage>= 40%: Grade E\n",
    "vi)Percentage <40%: Grade F"
   ]
  },
  {
   "cell_type": "code",
   "execution_count": 2,
   "id": "40241fa8",
   "metadata": {},
   "outputs": [
    {
     "name": "stdout",
     "output_type": "stream",
     "text": [
      "Enter Physics marks: 80\n",
      "Enter Chemistry marks: 82\n",
      "Enter Biology marks: 84\n",
      "Enter Mathematics marks: 86\n",
      "Enter Computer marks: 92\n",
      "Percentage: 84.80%\n",
      "Grade: Grade B\n"
     ]
    }
   ],
   "source": [
    "try:\n",
    "    physics = float(input(\"Enter Physics marks: \"))\n",
    "    chemistry = float(input(\"Enter Chemistry marks: \"))\n",
    "    biology = float(input(\"Enter Biology marks: \"))\n",
    "    mathematics = float(input(\"Enter Mathematics marks: \"))\n",
    "    computer = float(input(\"Enter Computer marks: \"))\n",
    "\n",
    "    total_marks = physics + chemistry + biology + mathematics + computer\n",
    "\n",
    "    percentage = (total_marks / 500) * 100\n",
    "\n",
    "    if percentage >= 90:\n",
    "        grade = \"Grade A\"\n",
    "    elif percentage >= 80:\n",
    "        grade = \"Grade B\"\n",
    "    elif percentage >= 70:\n",
    "        grade = \"Grade C\"\n",
    "    elif percentage >= 60:\n",
    "        grade = \"Grade D\"\n",
    "    elif percentage >= 40:\n",
    "        grade = \"Grade E\"\n",
    "    else:\n",
    "        grade = \"Grade F\"\n",
    "\n",
    "    print(f\"Percentage: {percentage:.2f}%\")\n",
    "    print(f\"Grade: {grade}\")\n",
    "\n",
    "except ValueError:\n",
    "    print(\"Invalid input. Please enter numerical marks for each subject.\")\n",
    "except Exception as e:\n",
    "    print(\"An error occurred:\", str(e))"
   ]
  },
  {
   "cell_type": "markdown",
   "id": "fce2fb17",
   "metadata": {},
   "source": [
    "# 2.Write a python program with Exception handling to input electricity unit charges and calculate\n",
    "the total electricity bill according to the given condition:\n",
    "i)For the first 50 units Rs. 0.50/unit\n",
    "ii)For the next 100 units Rs. 0.75/unit\n",
    "iii)For the next 100 units Rs. 1.20/unit\n",
    "iv)For units above 250 Rs. 1.50/unit\n",
    "v)An additional surcharge of 20% is added to the bill."
   ]
  },
  {
   "cell_type": "code",
   "execution_count": 3,
   "id": "857ee807",
   "metadata": {},
   "outputs": [
    {
     "name": "stdout",
     "output_type": "stream",
     "text": [
      "Enter the number of electricity units consumed: 200\n",
      "Total Electricity Bill: Rs. 192.00\n"
     ]
    }
   ],
   "source": [
    "try:\n",
    "    units = float(input(\"Enter the number of electricity units consumed: \"))\n",
    "    total_cost = 0\n",
    "    surcharge = 0\n",
    "    if units <= 50:\n",
    "        total_cost = units * 0.50\n",
    "    elif units <= 150:\n",
    "        total_cost = 50 * 0.50 + (units - 50) * 0.75\n",
    "    elif units <= 250:\n",
    "        total_cost = 50 * 0.50 + 100 * 0.75 + (units - 150) * 1.20\n",
    "    else:\n",
    "        total_cost = 50 * 0.50 + 100 * 0.75 + 100 * 1.20 + (units - 250) * 1.50\n",
    "    surcharge = 0.20 * total_cost\n",
    "    total_bill = total_cost + surcharge\n",
    "\n",
    "    print(f\"Total Electricity Bill: Rs. {total_bill:.2f}\")\n",
    "\n",
    "except ValueError:\n",
    "    print(\"Invalid input. Please enter a numerical value for electricity units.\")\n",
    "except Exception as e:\n",
    "    print(\"An error occurred:\", str(e))"
   ]
  },
  {
   "cell_type": "markdown",
   "id": "d145adfb",
   "metadata": {},
   "source": [
    "# 3.Write a python program with Exception handling to input the week number and print the weekday"
   ]
  },
  {
   "cell_type": "code",
   "execution_count": 2,
   "id": "d0b9fbf7",
   "metadata": {},
   "outputs": [
    {
     "name": "stdout",
     "output_type": "stream",
     "text": [
      "Enter a week number (1-52): 7\n",
      "The weekday for week 7 is Monday.\n"
     ]
    }
   ],
   "source": [
    "import datetime\n",
    "\n",
    "try:\n",
    "    week_number = int(input(\"Enter a week number (1-52): \"))\n",
    "\n",
    "    if 1 <= week_number <= 52:\n",
    "        weekday = datetime.datetime.strptime(f\"2023-W{week_number}-1\", \"%Y-W%U-%w\").strftime(\"%A\")\n",
    "        print(f\"The weekday for week {week_number} is {weekday}.\")\n",
    "    else:\n",
    "        print(\"Invalid input. Week number should be between 1 and 52.\")\n",
    "\n",
    "except ValueError:\n",
    "    print(\"Invalid input. Please enter a numerical value for the week number.\")\n",
    "except Exception as e:\n",
    "    print(\"An error occurred:\", str(e))"
   ]
  },
  {
   "cell_type": "markdown",
   "id": "7f7d9025",
   "metadata": {},
   "source": [
    "# 5. Write a python program for finding the most frequent words in a text read from a file.\n",
    "    1.) Initially open the text file in read mode\n",
    "    2.) Make all the letters in the document into lowercase letters and split the wordsin each line\n",
    "    3.) Get the words in an order.\n",
    "    4.) Sort the words for finding the most frequent words in the file.\n",
    "    5.) Print the most frequent words in the file."
   ]
  },
  {
   "cell_type": "code",
   "execution_count": 3,
   "id": "537edc88",
   "metadata": {},
   "outputs": [
    {
     "name": "stdout",
     "output_type": "stream",
     "text": [
      "Enter the number of words to printed : 1\n",
      "am: 2 \n"
     ]
    }
   ],
   "source": [
    "file = \"file5.txt\"\n",
    "try:\n",
    "    with open(file,'r') as f:\n",
    "        text = f.read().lower()\n",
    "    words = text.split()\n",
    "    word_count = {}\n",
    "    for word in words:\n",
    "        if word in word_count:\n",
    "            word_count[word] += 1\n",
    "        else:\n",
    "            word_count[word] = 1\n",
    "    sort = sorted(word_count.items(), key=lambda x: x[1], reverse=True)\n",
    "\n",
    "    n = int(input(\"Enter the number of words to printed : \"))\n",
    "    for word, count in sort[:n]:\n",
    "        print(f\"{word}: {count} \")\n",
    "except FileNotFoundError:\n",
    "    print(f\"File '{file}' not found.\")"
   ]
  },
  {
   "cell_type": "markdown",
   "id": "8abbffd5",
   "metadata": {},
   "source": [
    "# 4. Write a Python program to implement word count using command line arguments. \n",
    "i) Create a text document \"apple.txt\" whch contains text for wordcount\n",
    "\n",
    "ii) Create a wordcount program which calls the \"apple.txt\" document by opening the file.\n",
    "\n",
    "iii) If the word is present again in the \"aspletur the wordcount is incremented by 1 until all the words are counted in the document.\n",
    "\n",
    "iv) Close the file.\n",
    "\n",
    "v) Create a command.py program which imports the wordcount.py program \n",
    "\n",
    "vi) Count the number of words using command line arguments \n",
    "\n",
    "vii) print each word and it's count"
   ]
  },
  {
   "cell_type": "code",
   "execution_count": 2,
   "id": "cf6accf1",
   "metadata": {},
   "outputs": [
    {
     "ename": "NameError",
     "evalue": "name '_name_' is not defined",
     "output_type": "error",
     "traceback": [
      "\u001b[1;31m---------------------------------------------------------------------------\u001b[0m",
      "\u001b[1;31mNameError\u001b[0m                                 Traceback (most recent call last)",
      "Cell \u001b[1;32mIn[2], line 19\u001b[0m\n\u001b[0;32m     17\u001b[0m         \u001b[38;5;28mprint\u001b[39m(\u001b[38;5;124mf\u001b[39m\u001b[38;5;124m\"\u001b[39m\u001b[38;5;124mAn error occurred: \u001b[39m\u001b[38;5;132;01m{\u001b[39;00me\u001b[38;5;132;01m}\u001b[39;00m\u001b[38;5;124m\"\u001b[39m)\n\u001b[0;32m     18\u001b[0m     \u001b[38;5;28;01mreturn\u001b[39;00m word_counts\n\u001b[1;32m---> 19\u001b[0m \u001b[38;5;28;01mif\u001b[39;00m _name_ \u001b[38;5;241m==\u001b[39m \u001b[38;5;124m\"\u001b[39m\u001b[38;5;124m__main__\u001b[39m\u001b[38;5;124m\"\u001b[39m:\n\u001b[0;32m     20\u001b[0m     \u001b[38;5;28;01mif\u001b[39;00m \u001b[38;5;28mlen\u001b[39m(sys\u001b[38;5;241m.\u001b[39margv) \u001b[38;5;241m!=\u001b[39m \u001b[38;5;241m2\u001b[39m:\n\u001b[0;32m     21\u001b[0m         \u001b[38;5;28mprint\u001b[39m(\u001b[38;5;124m\"\u001b[39m\u001b[38;5;124mUsage: python your_script.py <filename>\u001b[39m\u001b[38;5;124m\"\u001b[39m)\n",
      "\u001b[1;31mNameError\u001b[0m: name '_name_' is not defined"
     ]
    }
   ],
   "source": [
    "import sys\n",
    "def count_words(input_file):\n",
    "    word_counts = {}\n",
    "    try:\n",
    "        with open(input_file, 'r') as file:\n",
    "            for line in file:\n",
    "                words = line.split()\n",
    "                for word in words:\n",
    "                    word = word.lower() \n",
    "                    if word in word_counts:\n",
    "                        word_counts[word] += 1\n",
    "                    else:\n",
    "                        word_counts[word] = 1\n",
    "    except FileNotFoundError:\n",
    "        print(f\"File '{filename}' not found.\")\n",
    "    except Exception as e:\n",
    "        print(f\"An error occurred: {e}\")\n",
    "    return word_counts\n",
    "if _name_ == \"__main__\":\n",
    "    if len(sys.argv) != 2:\n",
    "        print(\"Usage: python your_script.py <filename>\")\n",
    "        sys.exit(1)\n",
    "    input_file = sys.argv[1]\n",
    "    num_of_words = count_words(input_file)\n",
    "    for word, count in num_of_words.items():\n",
    "        print(f\"word: {word} and its count: [{count}]\")"
   ]
  },
  {
   "cell_type": "markdown",
   "id": "2e8fb70f",
   "metadata": {},
   "source": [
    "# 6.File Processing with Command-Line Arguments- Scenario: You are developing a command-line utility that processes text files. Users can specify input and output file paths as command-line arguments. Your program should handle exceptions gracefully.\n",
    "\n",
    "i. Design a Python program that takes two command-line arguments: the input file path and the output file path. Ensure that the program checks if both arguments are provided and that the input file exists.\n",
    "\n",
    "ii. Implement error handling to deal with scenarios such as missing input files,\n",
    "\n",
    "invalid file paths, or permission issues when writing to the output file.\n",
    "\n",
    "iii. If an error occurs during file processing, display a user-friendly error message, and exit the program with a non-zero exit code.\n",
    "\n",
    "iv. Write test cases that cover various scenarios, including providing valid and invalid file paths as command-line arguments."
   ]
  },
  {
   "cell_type": "code",
   "execution_count": 3,
   "id": "7d36514f",
   "metadata": {},
   "outputs": [
    {
     "ename": "NameError",
     "evalue": "name 'name' is not defined",
     "output_type": "error",
     "traceback": [
      "\u001b[1;31m---------------------------------------------------------------------------\u001b[0m",
      "\u001b[1;31mNameError\u001b[0m                                 Traceback (most recent call last)",
      "Cell \u001b[1;32mIn[3], line 27\u001b[0m\n\u001b[0;32m     24\u001b[0m         \u001b[38;5;28mprint\u001b[39m(\u001b[38;5;124mf\u001b[39m\u001b[38;5;124m\"\u001b[39m\u001b[38;5;124mAn error occurred: \u001b[39m\u001b[38;5;132;01m{\u001b[39;00me\u001b[38;5;132;01m}\u001b[39;00m\u001b[38;5;124m\"\u001b[39m)\n\u001b[0;32m     25\u001b[0m         sys\u001b[38;5;241m.\u001b[39mexit(\u001b[38;5;241m1\u001b[39m)\n\u001b[1;32m---> 27\u001b[0m \u001b[38;5;28;01mif\u001b[39;00m name \u001b[38;5;241m==\u001b[39m \u001b[38;5;124m\"\u001b[39m\u001b[38;5;124m__main__\u001b[39m\u001b[38;5;124m\"\u001b[39m:\n\u001b[0;32m     28\u001b[0m     \u001b[38;5;28;01mif\u001b[39;00m \u001b[38;5;28mlen\u001b[39m(sys\u001b[38;5;241m.\u001b[39margv) \u001b[38;5;241m!=\u001b[39m \u001b[38;5;241m3\u001b[39m:\n\u001b[0;32m     29\u001b[0m         \u001b[38;5;28mprint\u001b[39m(\u001b[38;5;124m\"\u001b[39m\u001b[38;5;124mUsage: python your_program.py <input_file_path> <output_file_path>\u001b[39m\u001b[38;5;124m\"\u001b[39m)\n",
      "\u001b[1;31mNameError\u001b[0m: name 'name' is not defined"
     ]
    }
   ],
   "source": [
    "import sys\n",
    "\n",
    "def process_files(input_file, output_file):\n",
    "    try:\n",
    "        if not input_file or not output_file:\n",
    "            raise ValueError(\"Both input and output file paths must be provided.\")\n",
    "\n",
    "        with open(input_file, 'r') as inp:\n",
    "            content = inp.read()\n",
    "\n",
    "        processed_content = content.upper()  \n",
    "        with open(output_file, 'w') as output:\n",
    "            output.write(processed_content)\n",
    "\n",
    "        print(\"File processing completed successfully.\")\n",
    "\n",
    "    except FileNotFoundError:\n",
    "        print(\"Input file not found.\")\n",
    "        sys.exit(1)\n",
    "    except PermissionError:\n",
    "        print(\"Permission denied while writing to the output file.\")\n",
    "        sys.exit(1)\n",
    "    except Exception as e:\n",
    "        print(f\"An error occurred: {e}\")\n",
    "        sys.exit(1)\n",
    "\n",
    "if name == \"__main__\":\n",
    "    if len(sys.argv) != 3:\n",
    "        print(\"Usage: python your_program.py <input_file_path> <output_file_path>\")\n",
    "        sys.exit(1)\n",
    "\n",
    "    input_file = sys.argv[1]\n",
    "    output_file = sys.argv[2]\n",
    "\n",
    "    process_files(input_file, output_file)"
   ]
  },
  {
   "cell_type": "code",
   "execution_count": null,
   "id": "4917f4b5",
   "metadata": {},
   "outputs": [],
   "source": []
  }
 ],
 "metadata": {
  "kernelspec": {
   "display_name": "Python 3 (ipykernel)",
   "language": "python",
   "name": "python3"
  },
  "language_info": {
   "codemirror_mode": {
    "name": "ipython",
    "version": 3
   },
   "file_extension": ".py",
   "mimetype": "text/x-python",
   "name": "python",
   "nbconvert_exporter": "python",
   "pygments_lexer": "ipython3",
   "version": "3.11.4"
  }
 },
 "nbformat": 4,
 "nbformat_minor": 5
}
