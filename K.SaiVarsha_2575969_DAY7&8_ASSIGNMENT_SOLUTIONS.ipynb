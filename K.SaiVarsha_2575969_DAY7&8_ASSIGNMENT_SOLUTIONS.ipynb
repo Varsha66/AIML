{
 "cells": [
  {
   "cell_type": "markdown",
   "id": "294eb394",
   "metadata": {},
   "source": [
    "# 1. Write a Python program to find a target values in a list using linear search with following steps:¶\n",
    "a. Initialize the list to store the input elements. \n",
    "b. Initialize found-False. \n",
    "c. Enter the item to be searched (match_item). \n",
    "d. For each element in the list\n",
    "1. if match item = value a return match item's position.\n",
    "e. If the match item is not in the list, display an error message that the item is not found in the list"
   ]
  },
  {
   "cell_type": "code",
   "execution_count": 1,
   "id": "0be69950",
   "metadata": {},
   "outputs": [
    {
     "name": "stdout",
     "output_type": "stream",
     "text": [
      "Enter the item to be searched: 67\n",
      "The item 67 was found at position 2.\n"
     ]
    }
   ],
   "source": [
    "# Initialize the list with input elements\n",
    "input_list = [12, 45, 67, 89, 34, 56, 78, 90]\n",
    "\n",
    "# Initialize found as False\n",
    "found = False\n",
    "\n",
    "# Enter the item to be searched (match_item)\n",
    "match_item = int(input(\"Enter the item to be searched: \"))\n",
    "\n",
    "# Loop through each element in the list\n",
    "for index, value in enumerate(input_list):\n",
    "    if match_item == value:\n",
    "        # Item found, so set found to True and break the loop\n",
    "        found = True\n",
    "        position = index\n",
    "        break\n",
    "\n",
    "# Check if the item was found\n",
    "if found:\n",
    "    print(f\"The item {match_item} was found at position {position}.\")\n",
    "else:\n",
    "    print(f\"The item {match_item} was not found in the list.\")"
   ]
  },
  {
   "cell_type": "markdown",
   "id": "33c322c7",
   "metadata": {},
   "source": [
    "# 2. Write a Python program to implement binary search to find the target values from the list:\n",
    "a. Create a separate function to do binary search. \n",
    "b. Get the number of inputs from the user. \n",
    "c. Store the inputs individually in a list. \n",
    "d. In binary search function at first sort the list in order to start the search from middle of the list \n",
    "e. Compare the middle element to right and left elements to search target element. f. If greater, move to right of list or else move to another side of the list. g. Print the result along with the position of the element"
   ]
  },
  {
   "cell_type": "code",
   "execution_count": 5,
   "id": "b5b4f0a3",
   "metadata": {},
   "outputs": [
    {
     "name": "stdout",
     "output_type": "stream",
     "text": [
      "Enter the number of inputs: 4\n",
      "Enter input 1: 6\n",
      "Enter input 2: 7\n",
      "Enter input 3: 9\n",
      "Enter input 4: 2\n",
      "Enter the target value to search for: 6\n",
      "Target 6 found at position 1\n"
     ]
    }
   ],
   "source": [
    "def binary_search(arr, target):\n",
    "    arr.sort()  # Sort the list\n",
    "    left, right = 0, len(arr) - 1\n",
    "\n",
    "    while left <= right:\n",
    "        mid = (left + right) // 2  # Calculate the middle index\n",
    "\n",
    "        if arr[mid] == target:\n",
    "            return f\"Target {target} found at position {mid}\"\n",
    "        elif arr[mid] < target:\n",
    "            left = mid + 1\n",
    "        else:\n",
    "            right = mid - 1\n",
    "\n",
    "    return f\"Target {target} not found in the list\"\n",
    "\n",
    "# Get the number of inputs from the user\n",
    "num_inputs = int(input(\"Enter the number of inputs: \"))\n",
    "\n",
    "# Create a list to store the inputs\n",
    "input_list = []\n",
    "for i in range(num_inputs):\n",
    "    input_value = int(input(f\"Enter input {i + 1}: \"))\n",
    "    input_list.append(input_value)\n",
    "\n",
    "# Get the target value from the user\n",
    "target_value = int(input(\"Enter the target value to search for: \"))\n",
    "\n",
    "# Call the binary_search function to search for the target value\n",
    "result = binary_search(input_list, target_value)\n",
    "\n",
    "# Print the result\n",
    "print(result)"
   ]
  },
  {
   "cell_type": "markdown",
   "id": "f667a9f3",
   "metadata": {},
   "source": [
    "# 6. Write a Python script to perform the following operations on a singly linked list¶\n",
    "a. Create a list \n",
    "b. Find the smallest element from the list \n",
    "c. Insert an element if it is not a duplicate element \n",
    "d. Display the elements in reverse order"
   ]
  },
  {
   "cell_type": "code",
   "execution_count": 7,
   "id": "ee85dab9",
   "metadata": {},
   "outputs": [
    {
     "name": "stdout",
     "output_type": "stream",
     "text": [
      "Smallest element in the list: 10\n",
      "Elements in reverse order:\n",
      "40 20 30 20 10 "
     ]
    }
   ],
   "source": [
    "class Node:\n",
    "    def __init__(self, data):\n",
    "        self.data = data\n",
    "        self.next = None\n",
    "\n",
    "class SinglyLinkedList:\n",
    "    def __init__(self):\n",
    "        self.head = None\n",
    "\n",
    "    # Function to insert a new element at the end of the list\n",
    "    def insert(self, data):\n",
    "        new_node = Node(data)\n",
    "        if not self.head:\n",
    "            self.head = new_node\n",
    "        else:\n",
    "            current = self.head\n",
    "            while current.next:\n",
    "                current = current.next\n",
    "            current.next = new_node\n",
    "\n",
    "    # Function to find the smallest element in the list\n",
    "    def find_smallest(self):\n",
    "        if not self.head:\n",
    "            return None\n",
    "        smallest = self.head.data\n",
    "        current = self.head.next\n",
    "        while current:\n",
    "            if current.data < smallest:\n",
    "                smallest = current.data\n",
    "            current = current.next\n",
    "        return smallest\n",
    "\n",
    "    # Function to insert an element if it is not a duplicate\n",
    "    def insert_if_not_duplicate(self, data):\n",
    "        current = self.head\n",
    "        while current:\n",
    "            if current.data == data:\n",
    "                return  # Element already exists, don't insert\n",
    "            current = current.next\n",
    "        self.insert(data)\n",
    "\n",
    "    # Function to display elements in reverse order\n",
    "    def display_reverse(self):\n",
    "        def display_recursive(node):\n",
    "            if node:\n",
    "                display_recursive(node.next)\n",
    "                print(node.data, end=' ')\n",
    "\n",
    "        display_recursive(self.head)\n",
    "\n",
    "# Create a singly linked list\n",
    "my_list=SinglyLinkedList()\n",
    "\n",
    "# Insert elements into the list\n",
    "my_list.insert(10)\n",
    "my_list.insert(20)\n",
    "my_list.insert(30)\n",
    "my_list.insert(20)  # Duplicate element\n",
    "\n",
    "# Find the smallest element\n",
    "smallest = my_list.find_smallest()\n",
    "if smallest is not None:\n",
    "    print(f\"Smallest element in the list: {smallest}\")\n",
    "else:\n",
    "    print(\"The list is empty\")\n",
    "\n",
    "# Insert an element if it's not a duplicate\n",
    "my_list.insert_if_not_duplicate(40)\n",
    "\n",
    "# Display elements in reverse order\n",
    "print(\"Elements in reverse order:\")\n",
    "my_list.display_reverse()"
   ]
  },
  {
   "cell_type": "markdown",
   "id": "e91077e4",
   "metadata": {},
   "source": [
    "# 7. Write a python program to implement the various operations for Stack ADT¶\n",
    "1.) Push ii.) Pop iii.) Display"
   ]
  },
  {
   "cell_type": "code",
   "execution_count": 8,
   "id": "951a47d3",
   "metadata": {},
   "outputs": [
    {
     "name": "stdout",
     "output_type": "stream",
     "text": [
      "\n",
      "Stack Operations:\n",
      "1. Push\n",
      "2. Pop\n",
      "3. Display\n",
      "4. Quit\n",
      "Enter your choice: 3\n",
      "Stack is empty\n",
      "\n",
      "Stack Operations:\n",
      "1. Push\n",
      "2. Pop\n",
      "3. Display\n",
      "4. Quit\n",
      "Enter your choice: 1\n",
      "Enter the item to push: 2\n",
      "2 pushed onto the stack.\n",
      "\n",
      "Stack Operations:\n",
      "1. Push\n",
      "2. Pop\n",
      "3. Display\n",
      "4. Quit\n",
      "Enter your choice: 4\n"
     ]
    }
   ],
   "source": [
    "class Stack:\n",
    "    def __init__(self):\n",
    "        self.items = []\n",
    "\n",
    "    # Push operation to add an item to the top of the stack\n",
    "    def push(self, item):\n",
    "        self.items.append(item)\n",
    "\n",
    "    # Pop operation to remove and return the top item from the stack\n",
    "    def pop(self):\n",
    "        if not self.is_empty():\n",
    "            return self.items.pop()\n",
    "        else:\n",
    "            return \"Stack is empty\"\n",
    "\n",
    "    # Display operation to show the elements in the stack\n",
    "    def display(self):\n",
    "        if not self.is_empty():\n",
    "            print(\"Stack elements:\")\n",
    "            for item in self.items[::-1]:\n",
    "                print(item)\n",
    "        else:\n",
    "            print(\"Stack is empty\")\n",
    "\n",
    "    # Check if the stack is empty\n",
    "    def is_empty(self):\n",
    "        return len(self.items) == 0\n",
    "\n",
    "# Create a stack\n",
    "stack = Stack()\n",
    "\n",
    "while True:\n",
    "    print(\"\\nStack Operations:\")\n",
    "    print(\"1. Push\")\n",
    "    print(\"2. Pop\")\n",
    "    print(\"3. Display\")\n",
    "    print(\"4. Quit\")\n",
    "\n",
    "    choice = int(input(\"Enter your choice: \"))\n",
    "\n",
    "    if choice == 1:\n",
    "        item = input(\"Enter the item to push: \")\n",
    "        stack.push(item)\n",
    "        print(f\"{item} pushed onto the stack.\")\n",
    "    elif choice == 2:\n",
    "        popped_item = stack.pop()\n",
    "        print(f\"Popped item: {popped_item}\")\n",
    "    elif choice == 3:\n",
    "        stack.display()\n",
    "    elif choice == 4:\n",
    "        break\n",
    "    else:\n",
    "        print(\"Invalid choice. Please choose a valid option.\")"
   ]
  },
  {
   "cell_type": "markdown",
   "id": "98497a39",
   "metadata": {},
   "source": [
    "# 8. Write a python script to implement the various operations for Queue ADT\n",
    "1.) Insert ii.) Delete iii.) Display"
   ]
  },
  {
   "cell_type": "code",
   "execution_count": 10,
   "id": "f72606ea",
   "metadata": {},
   "outputs": [
    {
     "name": "stdout",
     "output_type": "stream",
     "text": [
      "\n",
      "Queue Operations:\n",
      "1. Insert\n",
      "2. Delete\n",
      "3. Display\n",
      "4. Quit\n",
      "Enter your choice: 2\n",
      "Deleted item: Queue is empty\n",
      "\n",
      "Queue Operations:\n",
      "1. Insert\n",
      "2. Delete\n",
      "3. Display\n",
      "4. Quit\n",
      "Enter your choice: 1\n",
      "Enter the item to insert: 1\n",
      "1 inserted into the queue.\n",
      "\n",
      "Queue Operations:\n",
      "1. Insert\n",
      "2. Delete\n",
      "3. Display\n",
      "4. Quit\n",
      "Enter your choice: 4\n"
     ]
    }
   ],
   "source": [
    "class Queue:\n",
    "    def __init__(self):\n",
    "        self.items = []\n",
    "\n",
    "    # Insert operation to add an item to the rear of the queue\n",
    "    def insert(self, item):\n",
    "        self.items.append(item)\n",
    "\n",
    "    # Delete operation to remove and return the front item from the queue\n",
    "    def delete(self):\n",
    "        if not self.is_empty():\n",
    "            return self.items.pop(0)\n",
    "        else:\n",
    "            return \"Queue is empty\"\n",
    "\n",
    "    # Display operation to show the elements in the queue\n",
    "    def display(self):\n",
    "        if not self.is_empty():\n",
    "            print(\"Queue elements:\")\n",
    "            for item in self.items:\n",
    "                print(item)\n",
    "        else:\n",
    "            print(\"Queue is empty\")\n",
    "\n",
    "    # Check if the queue is empty\n",
    "    def is_empty(self):\n",
    "        return len(self.items) == 0\n",
    "\n",
    "# Create a queue\n",
    "queue = Queue()\n",
    "\n",
    "while True:\n",
    "    print(\"\\nQueue Operations:\")\n",
    "    print(\"1. Insert\")\n",
    "    print(\"2. Delete\")\n",
    "    print(\"3. Display\")\n",
    "    print(\"4. Quit\")\n",
    "\n",
    "    choice = int(input(\"Enter your choice: \"))\n",
    "\n",
    "    if choice == 1:\n",
    "        item = input(\"Enter the item to insert: \")\n",
    "        queue.insert(item)\n",
    "        print(f\"{item} inserted into the queue.\")\n",
    "    elif choice == 2:\n",
    "        deleted_item = queue.delete()\n",
    "        print(f\"Deleted item: {deleted_item}\")\n",
    "    elif choice == 3:\n",
    "        queue.display()\n",
    "    elif choice == 4:\n",
    "        break\n",
    "    else:\n",
    "        print(\"Invalid choice. Please choose a valid option.\")"
   ]
  },
  {
   "cell_type": "markdown",
   "id": "d7ce9372",
   "metadata": {},
   "source": [
    "# 9. Write a program in python to convert the following infix expression to its postfix form using push and pop operations of a Stack\n",
    "\n",
    "a. A/B°C+D*E-F*G\n",
    "\n",
    "b. (B^2-4*A*C)^(1/2) (100)"
   ]
  },
  {
   "cell_type": "code",
   "execution_count": 5,
   "id": "864f55e2",
   "metadata": {},
   "outputs": [
    {
     "name": "stdout",
     "output_type": "stream",
     "text": [
      "Postfix expression for 'A/B^C+D E-F G': A/B^C+D G E-F\n",
      "Postfix expression for '(B^2-4 A C)^(1/2) (100)': A (B^2-4 C)^(1/2) (100)\n"
     ]
    }
   ],
   "source": [
    "def infix_to_postfix(expression):\n",
    "    precedence = {'+': 1, '-': 1, '*': 2, '/': 2, '^': 3}\n",
    "    output = []\n",
    "    stack = []\n",
    "\n",
    "    for token in expression.split():\n",
    "        if token.isalnum():\n",
    "            output.append(token)\n",
    "        elif token == '(':\n",
    "            stack.append(token)\n",
    "        elif token == ')':\n",
    "            while stack and stack[-1] != '(':\n",
    "                output.append(stack.pop())\n",
    "            stack.pop()  # Pop '('\n",
    "        else:\n",
    "            while stack and precedence.get(stack[-1], 0) >= precedence.get(token, 0):\n",
    "                output.append(stack.pop())\n",
    "            stack.append(token)\n",
    "\n",
    "    while stack:\n",
    "        output.append(stack.pop())\n",
    "\n",
    "    return ' '.join(output)\n",
    "\n",
    "\n",
    "# Test the program with the given expressions\n",
    "expression_a = \"A/B^C+D E-F G\"\n",
    "expression_b = \"(B^2-4 A C)^(1/2) (100)\"\n",
    "\n",
    "result_a = infix_to_postfix(expression_a)\n",
    "result_b = infix_to_postfix(expression_b)\n",
    "\n",
    "print(\"Postfix expression for 'A/B^C+D E-F G':\", result_a)\n",
    "print(\"Postfix expression for '(B^2-4 A C)^(1/2) (100)':\", result_b)"
   ]
  },
  {
   "cell_type": "markdown",
   "id": "31366b57",
   "metadata": {},
   "source": [
    "# 3. Write a Python program for sorting a list of elements using selection sort algorithm:\n",
    "a. Assume two lists: Sorted list- Initially empty and Unsorted List-Given input list. b. In the first iteration, find the smallest element in the unsorted list and place it in the sorted list. c. In the second iteration, find the smallest element in the unsorted list and place it in the correct position by comparing with the element in the sorted list. d. In the third iteration, again find the smallest element in the unsorted list and place it in the correct position by comparing with the elements in the sorted list. e. This process continues till the unsorted list becomes empty. f. Display the sorted list"
   ]
  },
  {
   "cell_type": "code",
   "execution_count": 1,
   "id": "0e4f65a2",
   "metadata": {},
   "outputs": [
    {
     "name": "stdout",
     "output_type": "stream",
     "text": [
      "Sorted list: [2, 11, 25, 54, 199]\n"
     ]
    }
   ],
   "source": [
    "def selection_sort(arr):\n",
    "    sorted_list = []  # Initially empty sorted list\n",
    "\n",
    "    while arr:\n",
    "        min_element = min(arr)  # Find the minimum element in the unsorted list\n",
    "        arr.remove(min_element)  # Remove the minimum element from the unsorted list\n",
    "\n",
    "        # Find the correct position in the sorted list by comparing with its elements\n",
    "        for i in range(len(sorted_list)):\n",
    "            if min_element < sorted_list[i]:\n",
    "                sorted_list.insert(i, min_element)\n",
    "                break\n",
    "        else:\n",
    "            sorted_list.append(min_element)  # If min_element is greater than all elements, add it at the end\n",
    "\n",
    "    return sorted_list\n",
    "\n",
    "# Input list of elements (unsorted)\n",
    "unsorted_list = [54, 2, 199, 25, 11]\n",
    "\n",
    "# Sort the list using selection sort\n",
    "sorted_list = selection_sort(unsorted_list)\n",
    "\n",
    "# Display the sorted list\n",
    "print(\"Sorted list:\", sorted_list)"
   ]
  },
  {
   "cell_type": "markdown",
   "id": "8dce7e48",
   "metadata": {},
   "source": [
    "# 4. Write a Python program for sorting a list of elements using insertion sort algorithm:\n",
    "a. Assume two lists: Sorted list- Initially empty and Unsorted List-Given input list. b. In the first iteration, take the first element in the unsorted list and insert it in Sorted list c. In the second iteration, take the second element in the given list and compare with the element in the sorted sub list and place it in the correct position. d. In the third iteration, take the third element in the given list and compare with the elements in the sorted sub list and place the elements in the correct position. e. This process continues until the last element is inserted in the sorted sub list f. Display the sorted elements"
   ]
  },
  {
   "cell_type": "code",
   "execution_count": 2,
   "id": "34b00953",
   "metadata": {},
   "outputs": [
    {
     "name": "stdout",
     "output_type": "stream",
     "text": [
      "Sorted list: [2, 11, 22, 23, 61]\n"
     ]
    }
   ],
   "source": [
    "def insertion_sort(arr):\n",
    "    sorted_list = []  # Initially empty sorted list\n",
    "\n",
    "    for unsorted_element in arr:\n",
    "        # Find the correct position in the sorted list by comparing with its elements\n",
    "        for i in range(len(sorted_list)):\n",
    "            if unsorted_element < sorted_list[i]:\n",
    "                sorted_list.insert(i, unsorted_element)\n",
    "                break\n",
    "        else:\n",
    "            sorted_list.append(unsorted_element)  # If unsorted_element is greater than all elements, add it at the end\n",
    "\n",
    "    return sorted_list\n",
    "\n",
    "# Input list of elements (unsorted)\n",
    "unsorted_list = [22, 2, 61, 23, 11]\n",
    "\n",
    "# Sort the list using insertion sort\n",
    "sorted_list = insertion_sort(unsorted_list)\n",
    "\n",
    "# Display the sorted list\n",
    "print(\"Sorted list:\", sorted_list)"
   ]
  },
  {
   "cell_type": "markdown",
   "id": "ef167a9e",
   "metadata": {},
   "source": [
    "# 5. Write a Python program that performs merge sort on a list of numbers:¶\n",
    "a. Divide: If the given array has zero or one element, return.\n",
    "\n",
    "Otherwise ii. Divide the input list in to two halves each containing half of the elements. i.e. left half and right half.\n",
    "b. Conquer: Recursively sort the two lists (left half and right half). a. Call the merge sort on left half. b. Call the merge sort on right half.\n",
    "\n",
    "c. Combine: Combine the elements back in the input list by merging the two sorted lists into a sorted sequence."
   ]
  },
  {
   "cell_type": "code",
   "execution_count": 3,
   "id": "277a764d",
   "metadata": {},
   "outputs": [
    {
     "name": "stdout",
     "output_type": "stream",
     "text": [
      "Sorted list: [1, 4, 10, 37, 50, 88, 99]\n"
     ]
    }
   ],
   "source": [
    "def merge_sort(arr):\n",
    "    if len(arr) > 1:\n",
    "        # Divide the input list into two halves\n",
    "        mid = len(arr) // 2\n",
    "        left_half = arr[:mid]\n",
    "        right_half = arr[mid:]\n",
    "\n",
    "        # Recursively sort the two halves\n",
    "        merge_sort(left_half)\n",
    "        merge_sort(right_half)\n",
    "\n",
    "        # Merge the sorted halves back into a single sorted list\n",
    "        i = j = k = 0\n",
    "\n",
    "        while i < len(left_half) and j < len(right_half):\n",
    "            if left_half[i] < right_half[j]:\n",
    "                arr[k] = left_half[i]\n",
    "                i += 1\n",
    "            else:\n",
    "                arr[k] = right_half[j]\n",
    "                j += 1\n",
    "            k += 1\n",
    "\n",
    "        # Check if any element was left\n",
    "        while i < len(left_half):\n",
    "            arr[k] = left_half[i]\n",
    "            i += 1\n",
    "            k += 1\n",
    "\n",
    "        while j < len(right_half):\n",
    "            arr[k] = right_half[j]\n",
    "            j += 1\n",
    "            k += 1\n",
    "\n",
    "# Input list of numbers\n",
    "input_list = [1, 99, 50, 37, 4, 88, 10]\n",
    "\n",
    "# Call merge_sort to sort the input list\n",
    "merge_sort(input_list)\n",
    "\n",
    "# Display the sorted list\n",
    "print(\"Sorted list:\", input_list)"
   ]
  },
  {
   "cell_type": "code",
   "execution_count": null,
   "id": "eabace3a",
   "metadata": {},
   "outputs": [],
   "source": []
  }
 ],
 "metadata": {
  "kernelspec": {
   "display_name": "Python 3 (ipykernel)",
   "language": "python",
   "name": "python3"
  },
  "language_info": {
   "codemirror_mode": {
    "name": "ipython",
    "version": 3
   },
   "file_extension": ".py",
   "mimetype": "text/x-python",
   "name": "python",
   "nbconvert_exporter": "python",
   "pygments_lexer": "ipython3",
   "version": "3.11.4"
  }
 },
 "nbformat": 4,
 "nbformat_minor": 5
}
